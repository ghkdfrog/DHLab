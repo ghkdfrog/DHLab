{
 "cells": [
  {
   "cell_type": "code",
   "execution_count": 1,
   "id": "464a0856-d1a0-4e72-a942-c86f5caea86d",
   "metadata": {},
   "outputs": [],
   "source": [
    "import sys\n",
    "import torchOptics.optics as tt\n",
    "import warnings\n",
    "import torch.nn as nn\n",
    "import torchOptics.metrics as tm\n",
    "import torch.nn.functional as F\n",
    "import torch.optim\n",
    "import torch\n",
    "from torch.utils.data import Dataset, DataLoader\n",
    "import os\n",
    "import glob\n",
    "import numpy as np\n",
    "import matplotlib.pyplot as plt\n",
    "import pickle\n",
    "import torchvision\n",
    "import datetime\n",
    "import tqdm\n",
    "import time\n",
    "import HHS.model\n",
    "\n",
    "\n",
    "warnings.filterwarnings('ignore')\n",
    "\n",
    "\n",
    "start_channel = 16\n",
    "out_channel = 24\n",
    "channels = [start_channel, start_channel*2, start_channel*4, start_channel*8]"
   ]
  },
  {
   "cell_type": "code",
   "execution_count": 29,
   "id": "beda368a-11c0-494e-8f73-3de0a68b2690",
   "metadata": {},
   "outputs": [],
   "source": [
    "import torchOptics.optics as tt\n",
    "import warnings\n",
    "import torch.nn as nn\n",
    "import torchOptics.metrics as tm\n",
    "import torch.nn.functional as F\n",
    "import torch.optim\n",
    "import torch\n",
    "from torch.utils.data import Dataset, DataLoader\n",
    "import os\n",
    "import glob\n",
    "import numpy as np\n",
    "import matplotlib.pyplot as plt\n",
    "import pickle\n",
    "import torchvision\n",
    "import datetime\n",
    "import tqdm\n",
    "import time\n",
    "import HHS.model\n",
    "\n",
    "\n",
    "warnings.filterwarnings('ignore')\n",
    "\n",
    "\n",
    "class SignFunction(torch.autograd.Function):\n",
    "    @staticmethod\n",
    "    def forward(ctx, input):\n",
    "        ctx.save_for_backward(input)\n",
    "        t = torch.Tensor([0.5]).cuda()  # threshold\n",
    "        output = (input > t).float() * 1\n",
    "        return output\n",
    "\n",
    "    @staticmethod\n",
    "    def backward(ctx, grad_output):\n",
    "        input, = ctx.saved_tensors\n",
    "        grad_input = grad_output * torch.ones_like(input)  # Replace with your custom gradient computation\n",
    "        return grad_input\n",
    "\n",
    "\n",
    "class Dataset512(Dataset):\n",
    "    def __init__(self, target_dir, meta, transform=None, isTrain=True):\n",
    "        self.target_dir = target_dir\n",
    "        self.transform = transform\n",
    "        self.meta = meta\n",
    "        self.isTrain = isTrain\n",
    "        self.target_list = sorted(glob.glob(target_dir+'*.png'))\n",
    "        self.center_crop = torchvision.transforms.CenterCrop(512)\n",
    "        self.random_crop = torchvision.transforms.RandomCrop((512, 512))\n",
    "\n",
    "    def __len__(self):\n",
    "        return len(self.target_list)\n",
    "\n",
    "    def __getitem__(self, idx):\n",
    "        if torch.is_tensor(idx):\n",
    "            idx = idx.tolist()\n",
    "        target = tt.imread(self.target_list[idx], meta=meta)\n",
    "        if self.isTrain:\n",
    "            target = self.random_crop(target)\n",
    "        else:\n",
    "            target = self.center_crop(target)\n",
    "        return target\n",
    "\n",
    "\n",
    "def initialize_weights(m):\n",
    "    if isinstance(m, nn.Conv2d):\n",
    "        nn.init.kaiming_uniform_(m.weight.data, nonlinearity='relu')\n",
    "        if m.bias is not None:\n",
    "            nn.init.constant_(m.bias.data, 0)\n",
    "    elif isinstance(m, nn.BatchNorm2d):\n",
    "        nn.init.constant_(m.weight.data, 1)\n",
    "        nn.init.constant_(m.bias.data, 0)\n",
    "    elif isinstance(m, nn.Linear):\n",
    "        nn.init.kaiming_uniform_(m.weight.data)\n",
    "        nn.init.constant_(m.bias.data, 0)\n",
    "\n",
    "# load data\n",
    "batch_size = 1\n",
    "target_dir = 'dataset/DIV2K/DIV2K_train_HR/'\n",
    "valid_dir = 'dataset/DIV2K/DIV2K_valid_HR/'\n",
    "# sim_dir = 'binary_dataset/simulated/'\n",
    "meta = {'wl' : (638e-9, 515e-9, 450e-9), 'dx':(6.3e-6, 6.3e-6)}\n",
    "train_dataset = Dataset512(target_dir=target_dir, meta=meta, isTrain=True)\n",
    "valid_dataset = Dataset512(target_dir=valid_dir, meta=meta, isTrain=False)\n",
    "\n",
    "trainloader = DataLoader(train_dataset, batch_size=batch_size, shuffle=False)\n",
    "validloader = DataLoader(valid_dataset, batch_size=batch_size, shuffle=False)\n",
    "\n",
    "\n",
    "def initialize_weights(m):\n",
    "    if isinstance(m, nn.Conv2d):\n",
    "        nn.init.kaiming_uniform_(m.weight.data, nonlinearity='relu')\n",
    "        if m.bias is not None:\n",
    "            nn.init.constant_(m.bias.data, 0)\n",
    "    elif isinstance(m, nn.BatchNorm2d):\n",
    "        nn.init.constant_(m.weight.data, 1)\n",
    "        nn.init.constant_(m.bias.data, 0)\n",
    "    elif isinstance(m, nn.Linear):\n",
    "        nn.init.kaiming_uniform_(m.weight.data)\n",
    "        nn.init.constant_(m.bias.data, 0)\n",
    "\n",
    "\n",
    "def train(model, num_hologram=10, custom_name='fcn', epochs=100, lr=1e-4, z=2e-3):\n",
    "    date = datetime.datetime.now() - datetime.timedelta(hours=15)\n",
    "    mean_psnr_list = []\n",
    "    mean_mse_list = []\n",
    "    max_epoch = 0\n",
    "    max_psnr = 0\n",
    "    optimizer = torch.optim.Adam(model.parameters(), lr=lr)\n",
    "    sign_function = SignFunction.apply\n",
    "    # path = 'models/'\n",
    "    model_name = f'{date}_{custom_name}_{num_hologram}_{z}'\n",
    "    # make result folder\n",
    "    result_folder = 'result/'+model_name\n",
    "    os.mkdir(result_folder)\n",
    "    model_path = os.path.join(result_folder, model_name)\n",
    "    psnr_result_path = os.path.join(result_folder, 'meanPSNR.npy')\n",
    "    mse_result_path = os.path.join(result_folder, 'meanMSE.npy')\n",
    "    result = {'model_path': model_path, 'psnr_result_path': psnr_result_path,\n",
    "          'mse_result_path': mse_result_path, 'z': z,\n",
    "          'num_hologram': num_hologram, 'lr': lr, 'epochs': epochs}\n",
    "    # save result dict\n",
    "    with open(os.path.join(result_folder, 'result_dict.pickle'), 'wb') as fw:\n",
    "        pickle.dump(result, fw)\n",
    "    for epoch in range(epochs):\n",
    "        pbar = tqdm.tqdm(trainloader)\n",
    "        model.train()\n",
    "        for target in pbar:\n",
    "            out = model(target)\n",
    "            binary = sign_function(out)\n",
    "            sim = tt.simulate(binary, z).abs()**2\n",
    "            result = torch.mean(sim, dim=1, keepdim=True)\n",
    "            loss = tt.relativeLoss(result, target, F.mse_loss)\n",
    "            optimizer.zero_grad()\n",
    "            loss.backward()\n",
    "            optimizer.step()\n",
    "        model.eval()\n",
    "        with torch.no_grad():\n",
    "            psnrList = []\n",
    "            mseList = []\n",
    "            for valid in validloader:\n",
    "                out = model(valid)\n",
    "                binary = sign_function(out)\n",
    "                sim = tt.simulate(binary, z).abs()**2\n",
    "                result = torch.mean(sim, dim=1, keepdim=True)\n",
    "                psnr = tt.relativeLoss(result, valid, tm.get_PSNR)\n",
    "                psnrList.append(psnr)\n",
    "                mse = tt.relativeLoss(result, valid, F.mse_loss).detach().cpu().numpy()\n",
    "                mseList.append(mse)\n",
    "            mean_psnr = sum(psnrList)/len(psnrList)\n",
    "            mean_mse = sum(mseList)/len(mseList)\n",
    "            mean_psnr_list.append(mean_psnr)\n",
    "            mean_mse_list.append(mean_mse)\n",
    "            # save psnr and mse\n",
    "            np.save(psnr_result_path, mean_psnr_list)\n",
    "            np.save(mse_result_path, mean_mse_list)\n",
    "            plt.plot(np.arange(len(mean_psnr_list)), mean_psnr_list,\n",
    "                     label=f'max psnr: {max(mean_psnr_list)}')\n",
    "            plt.title(model_name+'_psnr')\n",
    "            plt.legend()\n",
    "            plt.savefig(os.path.join(result_folder, 'meanPSNR.png'))\n",
    "            plt.clf()\n",
    "            plt.plot(np.arange(len(mean_mse_list)), mean_mse_list,\n",
    "                     label=f'max psnr: {min(mean_mse_list)}')\n",
    "            plt.title(model_name+'_mse')\n",
    "            plt.legend()\n",
    "            plt.savefig(os.path.join(result_folder, 'meanMSE.png'))\n",
    "            plt.clf()\n",
    "            print(f'mean PSNR : {mean_psnr} {epoch}/{epochs}')\n",
    "            print(f'mean MSE : {mean_mse} {epoch}/{epochs}')\n",
    "\n",
    "        if mean_psnr > max_psnr:\n",
    "            max_psnr = mean_psnr\n",
    "            max_epoch = epoch\n",
    "            torch.save(model.state_dict(), model_path)\n",
    "        print(f'max_psnr: {max_psnr}, epoch: {max_epoch}')\n",
    "\n",
    "\n",
    "def binary_sim(out, z=2e-3):\n",
    "    binary = SignFunction.apply(out)\n",
    "    sim = tt.simulate(binary, z).abs()**2\n",
    "    res = torch.mean(sim, dim=1, keepdim=True)\n",
    "    return binary, res\n",
    "\n",
    "\n",
    "def valid(model):\n",
    "    with torch.no_grad():\n",
    "        psnr_list = []\n",
    "        for target in validloader:\n",
    "            out = model(target)\n",
    "            binary, res = binary_sim(out)\n",
    "            psnr = tt.relativeLoss(res, target, tm.get_PSNR)\n",
    "            psnr_list.append(psnr)\n",
    "    print(sum(psnr_list)/len(psnr_list))\n",
    "\n",
    "\n",
    "def check_order(bmodel, classifier, target):\n",
    "    if len(target.shape) == 3:\n",
    "        target = target.unsqueeze(0)\n",
    "    result = []\n",
    "    with torch.no_grad():\n",
    "        out = bmodel(target)\n",
    "        binary, res = binary_sim(out)\n",
    "        for i in range(10):\n",
    "            binary_input = binary[0][i].unsqueeze(0).unsqueeze(0)\n",
    "            prop_order = classifier(binary_input)\n",
    "            result.append(torch.argmax(prop_order))\n",
    "    print(result)\n",
    "\n",
    "\n",
    "def check_order_without_model(binary, classifier):\n",
    "    with torch.no_grad():\n",
    "        result = []\n",
    "        for i in range(10):\n",
    "            binary_input = binary[0][i].unsqueeze(0).unsqueeze(0)\n",
    "            prop_order = classifier(binary_input)\n",
    "            result.append(torch.argmax(prop_order))\n",
    "    print(result)\n",
    "\n",
    "\n",
    "class SimpleCNN(nn.Module):\n",
    "    def __init__(self):\n",
    "        super(SimpleCNN, self).__init__()\n",
    "        self.conv1 = nn.Conv2d(1, 16, kernel_size=3, stride=1, padding=1)\n",
    "        self.pool1 = nn.MaxPool2d(kernel_size=2, stride=2, padding=0)\n",
    "        self.conv2 = nn.Conv2d(16, 32, kernel_size=3, stride=1, padding=1)\n",
    "        self.pool2 = nn.MaxPool2d(kernel_size=2, stride=2, padding=0)\n",
    "        self.conv3 = nn.Conv2d(32, 64, kernel_size=3, stride=1, padding=1)\n",
    "        self.pool3 = nn.MaxPool2d(kernel_size=2, stride=2, padding=0)\n",
    "        self.fc = nn.Linear(64 * 64 * 64, 10)  # 최종 분류를 위한 FC 레이어\n",
    "\n",
    "    def forward(self, x):\n",
    "        x = self.pool1(torch.relu(self.conv1(x)))\n",
    "        x = self.pool2(torch.relu(self.conv2(x)))\n",
    "        x = self.pool3(torch.relu(self.conv3(x)))\n",
    "        x = x.view(-1, 64 * 64 * 64)  # flatten\n",
    "        x = self.fc(x)\n",
    "        return x\n",
    "\n",
    "\n",
    "def rgb_binary_sim(out, z):\n",
    "    meta = {'wl' : (638e-9, 515e-9, 450e-9), 'dx':(6.3e-6, 6.3e-6)}\n",
    "    rmeta = {'wl': (638e-9), 'dx': (6.3e-6, 6.3e-6)}\n",
    "    gmeta = {'wl': (515e-9), 'dx': (6.3e-6, 6.3e-6)}\n",
    "    bmeta = {'wl': (450e-9), 'dx': (6.3e-6, 6.3e-6)}\n",
    "    sign = SignFunction.apply\n",
    "    binary = sign(out)\n",
    "    channel = out.shape[1]\n",
    "    rchannel = int(channel/3)\n",
    "    gchannel = int(channel*2/3)\n",
    "    red = binary[:, :rchannel, :, :]\n",
    "    green = binary[:, rchannel:gchannel, :, :]\n",
    "    blue = binary[:, gchannel:, :, :]\n",
    "    red = tt.Tensor(red, meta=rmeta)\n",
    "    green = tt.Tensor(green, meta=gmeta)\n",
    "    blue = tt.Tensor(blue, meta=bmeta)\n",
    "    rsim = tt.simulate(red, z).abs()**2\n",
    "    gsim = tt.simulate(green, z).abs()**2\n",
    "    bsim = tt.simulate(blue, z).abs()**2\n",
    "    rmean = torch.mean(rsim, dim=1, keepdim=True)\n",
    "    gmean = torch.mean(gsim, dim=1, keepdim=True)\n",
    "    bmean = torch.mean(bsim, dim=1, keepdim=True)\n",
    "    rgb = torch.cat([rmean, gmean, bmean], dim=1)\n",
    "    rgb = tt.Tensor(rgb, meta=meta)\n",
    "    binary = tt.Tensor(binary, meta=meta)\n",
    "    return binary, rgb\n",
    "\n",
    "def count_parameters(model):\n",
    "    return sum(p.numel() for p in model.parameters() if p.requires_grad)"
   ]
  },
  {
   "cell_type": "code",
   "execution_count": 7,
   "id": "622d5851-3de6-4f4a-8d79-528b6fef918b",
   "metadata": {},
   "outputs": [],
   "source": [
    "meta = {'wl' : (638e-9, 515e-9, 450e-9), 'dx':(6.3e-6, 6.3e-6)}\n",
    "\n",
    "class Dataset512(Dataset):\n",
    "    def __init__(self, target_dir, meta, transform=None, isTrain=True):\n",
    "        self.target_dir = target_dir\n",
    "        self.transform = transform\n",
    "        self.meta = meta\n",
    "        self.isTrain = isTrain\n",
    "        self.target_list = sorted(glob.glob(target_dir+'*.png'))\n",
    "        self.center_crop = torchvision.transforms.CenterCrop(512)\n",
    "        self.random_crop = torchvision.transforms.RandomCrop((512, 512))\n",
    "\n",
    "    def __len__(self):\n",
    "        return len(self.target_list)\n",
    "\n",
    "    def __getitem__(self, idx):\n",
    "        if torch.is_tensor(idx):\n",
    "            idx = idx.tolist()\n",
    "        target = tt.imread(self.target_list[idx], meta=meta)\n",
    "        if self.isTrain:\n",
    "            target = self.random_crop(target)\n",
    "        else:\n",
    "            target = self.center_crop(target)\n",
    "        return target\n",
    "\n",
    "\n",
    "batch_size = 1\n",
    "# target_dir = '../../../../nfs/dataset/DF2K/'\n",
    "target_dir = 'dataset/DIV2K/DIV2K_train_HR/'\n",
    "valid_dir = 'dataset/DIV2K/DIV2K_valid_HR/'\n",
    "train_dataset = Dataset512(target_dir=target_dir, meta=meta, isTrain=True)\n",
    "valid_dataset = Dataset512(target_dir=valid_dir, meta=meta, isTrain=False)\n",
    "train_dataset_center = Dataset512(target_dir=target_dir, meta=meta, isTrain=False)\n",
    "trainloader = DataLoader(train_dataset, batch_size=batch_size, shuffle=False)\n",
    "validloader = DataLoader(valid_dataset, batch_size=batch_size, shuffle=False)\n",
    "train_center_loader = DataLoader(train_dataset_center, batch_size=batch_size, shuffle=False)"
   ]
  },
  {
   "cell_type": "code",
   "execution_count": 8,
   "id": "45a89fe2-fb61-4e9e-b1d7-f5c8eace67c8",
   "metadata": {},
   "outputs": [],
   "source": [
    "class SignFunction(torch.autograd.Function):\n",
    "    @staticmethod\n",
    "    def forward(ctx, input):\n",
    "        ctx.save_for_backward(input)\n",
    "        t = torch.Tensor([0.5]).cuda()  # threshold\n",
    "        output = (input > t).float() * 1\n",
    "        return output\n",
    "\n",
    "    @staticmethod\n",
    "    def backward(ctx, grad_output):\n",
    "        input, = ctx.saved_tensors\n",
    "        grad_input = grad_output * torch.ones_like(input)  # Replace with your custom gradient computation\n",
    "        return grad_input"
   ]
  },
  {
   "cell_type": "code",
   "execution_count": 18,
   "id": "80336b69-cfb3-4211-b3c7-09490b3a5059",
   "metadata": {},
   "outputs": [],
   "source": [
    "def valid(model):\n",
    "    z = 2e-3\n",
    "    crop = torchvision.transforms.CenterCrop(480)\n",
    "    psnr_list = []\n",
    "    for target in tqdm.tqdm(validloader):\n",
    "        out = model(target)\n",
    "        binary, rgb = rgb_binary_sim(out, z)\n",
    "        rgb = crop(rgb)\n",
    "        croped_target = crop(target)\n",
    "        psnr = tt.relativeLoss(rgb, croped_target, tm.get_PSNR)\n",
    "        psnr_list.append(psnr)\n",
    "    return psnr_list\n",
    "\n",
    "\n",
    "def valid_train(model):\n",
    "    z = 2e-3\n",
    "    crop = torchvision.transforms.CenterCrop(480)\n",
    "    psnr_list = []\n",
    "    for target in tqdm.tqdm(train_center_loader):\n",
    "        out = model(target)\n",
    "        binary, rgb = rgb_binary_sim(out, z)\n",
    "        rgb = crop(rgb)\n",
    "        croped_target = crop(target)\n",
    "        psnr = tt.relativeLoss(rgb, croped_target, tm.get_PSNR)\n",
    "        psnr_list.append(psnr)\n",
    "    return psnr_list"
   ]
  },
  {
   "cell_type": "code",
   "execution_count": 26,
   "id": "d6af4314-7184-42aa-8392-c85bf8be82e3",
   "metadata": {},
   "outputs": [],
   "source": [
    "def rgb_binary_sim(out, z):\n",
    "    meta = {'wl' : (638e-9, 515e-9, 450e-9), 'dx':(6.3e-6, 6.3e-6)}\n",
    "    rmeta = {'wl': (638e-9), 'dx': (6.3e-6, 6.3e-6)}\n",
    "    gmeta = {'wl': (515e-9), 'dx': (6.3e-6, 6.3e-6)}\n",
    "    bmeta = {'wl': (450e-9), 'dx': (6.3e-6, 6.3e-6)}\n",
    "    sign = SignFunction.apply\n",
    "    binary = sign(out)\n",
    "    channel = out.shape[1]\n",
    "    rchannel = int(channel/3)\n",
    "    gchannel = int(channel*2/3)\n",
    "    red = binary[:, :rchannel, :, :]\n",
    "    green = binary[:, rchannel:gchannel, :, :]\n",
    "    blue = binary[:, gchannel:, :, :]\n",
    "    red = tt.Tensor(red, meta=rmeta)\n",
    "    green = tt.Tensor(green, meta=gmeta)\n",
    "    blue = tt.Tensor(blue, meta=bmeta)\n",
    "    rsim = tt.simulate(red, z).abs()**2\n",
    "    gsim = tt.simulate(green, z).abs()**2\n",
    "    bsim = tt.simulate(blue, z).abs()**2\n",
    "    rmean = torch.mean(rsim, dim=1, keepdim=True)\n",
    "    gmean = torch.mean(gsim, dim=1, keepdim=True)\n",
    "    bmean = torch.mean(bsim, dim=1, keepdim=True)\n",
    "    rgb = torch.cat([rmean, gmean, bmean], dim=1)\n",
    "    rgb = tt.Tensor(rgb, meta=meta)\n",
    "    binary = tt.Tensor(binary, meta=meta)\n",
    "    return binary, rgb"
   ]
  },
  {
   "cell_type": "code",
   "execution_count": 21,
   "id": "37fab6b4-4902-45bd-9866-69537cbb8b10",
   "metadata": {},
   "outputs": [
    {
     "name": "stderr",
     "output_type": "stream",
     "text": [
      "100%|██████████| 100/100 [00:08<00:00, 11.19it/s]\n"
     ]
    },
    {
     "data": {
      "text/plain": [
       "[]"
      ]
     },
     "execution_count": 21,
     "metadata": {},
     "output_type": "execute_result"
    },
    {
     "data": {
      "image/png": "[encoded data removed]",
      "text/plain": [
       "<Figure size 640x480 with 1 Axes>"
      ]
     },
     "metadata": {},
     "output_type": "display_data"
    }
   ],
   "source": [
    "start_channel = 16\n",
    "out_channel = 24\n",
    "channels = [start_channel, start_channel*2, start_channel*4, start_channel*8]\n",
    "model = HHS.model.FCN_Leakey_4(out_channel, 'Sigmoid', 3, channels = channels).cuda()\n",
    "model.load_state_dict(torch.load('result/16/layer62024-05-13 12:36:25.883544_[16, 32, 64, 128]_24_24_0.002/2024-05-13 12:36:25.883544_[16, 32, 64, 128]_24_24_0.002'))\n",
    "model.eval()\n",
    "psnr_list = valid(model)\n",
    "plt.plot(np.arange(len(psnr_list)), psnr_list, label='train_DIV2K')\n",
    "plt.legend()\n",
    "plt.plot()"
   ]
  },
  {
   "cell_type": "code",
   "execution_count": 22,
   "id": "3f0128b8-e890-4526-a940-f8650be69013",
   "metadata": {},
   "outputs": [
    {
     "data": {
      "text/plain": [
       "24.48225461959839"
      ]
     },
     "execution_count": 22,
     "metadata": {},
     "output_type": "execute_result"
    }
   ],
   "source": [
    "np.mean(psnr_list)"
   ]
  },
  {
   "cell_type": "code",
   "execution_count": 36,
   "id": "25196e6e-063a-4829-b7ea-2cd5672f581f",
   "metadata": {},
   "outputs": [
    {
     "name": "stderr",
     "output_type": "stream",
     "text": [
      "100%|██████████| 800/800 [01:08<00:00, 11.62it/s]\n"
     ]
    },
    {
     "data": {
      "text/plain": [
       "[]"
      ]
     },
     "execution_count": 36,
     "metadata": {},
     "output_type": "execute_result"
    },
    {
     "data": {
      "image/png": "[encoded data removed]",
      "text/plain": [
       "<Figure size 640x480 with 1 Axes>"
      ]
     },
     "metadata": {},
     "output_type": "display_data"
    }
   ],
   "source": [
    "psnr_list = valid_train(model)\n",
    "plt.plot(np.arange(len(psnr_list)), psnr_list, label='train_DIV2K')\n",
    "plt.legend()\n",
    "plt.plot()"
   ]
  },
  {
   "cell_type": "code",
   "execution_count": 39,
   "id": "7fda698a-cb34-40f2-a71d-bf16068d9a9a",
   "metadata": {},
   "outputs": [
    {
     "name": "stdout",
     "output_type": "stream",
     "text": [
      "69\n",
      "24.43309729337692\n"
     ]
    }
   ],
   "source": [
    "difficult_list = []\n",
    "for i in range(len(psnr_list)):\n",
    "    if psnr_list[i] < 21:\n",
    "        difficult_list.append(i)\n",
    "print(len(difficult_list))\n",
    "print(np.mean(psnr_list))"
   ]
  },
  {
   "cell_type": "code",
   "execution_count": 40,
   "id": "ee17eb7c-983b-40d4-87e3-fae0cafeacc1",
   "metadata": {},
   "outputs": [
    {
     "data": {
      "image/png": "[encoded data removed]",
      "text/plain": [
       "<Figure size 640x480 with 1 Axes>"
      ]
     },
     "metadata": {},
     "output_type": "display_data"
    }
   ],
   "source": [
    "psnr_list = []\n",
    "crop = torchvision.transforms.CenterCrop(480)\n",
    "for idx in difficult_list:\n",
    "    target = train_dataset_center[idx].unsqueeze(0)\n",
    "    out = model(target)\n",
    "    binary, rgb = rgb_binary_sim(out, 2e-3)\n",
    "    crop_rgb = crop(rgb)\n",
    "    crop_target = crop(target)\n",
    "    psnr = tt.relativeLoss(crop_rgb, crop_target, tm.get_PSNR)\n",
    "    psnr_list.append(psnr)\n",
    "plt.plot(np.arange(len(psnr_list)), psnr_list)\n",
    "plt.show()"
   ]
  },
  {
   "cell_type": "code",
   "execution_count": 41,
   "id": "b490cf8b-77e3-465d-8612-d1bc1aaaefec",
   "metadata": {},
   "outputs": [
    {
     "data": {
      "text/html": [
       "\n",
       "            <style>.floating-box {display:inline-block;margin: 1px;}</style>\n",
       "            <div class=\"floating-box\"><img src=\"data:image/png;base64,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\"></div>"
      ],
      "text/plain": [
       "<IPython.core.display.HTML object>"
      ]
     },
     "metadata": {},
     "output_type": "display_data"
    },
    {
     "data": {
      "text/plain": []
     },
     "execution_count": 41,
     "metadata": {},
     "output_type": "execute_result"
    }
   ],
   "source": [
    "tt.show_with_insets(crop_rgb, crop_target, correct_colorwise=True)"
   ]
  },
  {
   "cell_type": "code",
   "execution_count": 42,
   "id": "b98e662d-d418-4356-8046-1e424c4a42f9",
   "metadata": {},
   "outputs": [
    {
     "data": {
      "text/plain": [
       "19.46139377096425"
      ]
     },
     "execution_count": 42,
     "metadata": {},
     "output_type": "execute_result"
    }
   ],
   "source": [
    "np.mean(psnr_list)"
   ]
  },
  {
   "cell_type": "code",
   "execution_count": 13,
   "id": "5e8faeda-9424-4a04-9d7b-644395b28f81",
   "metadata": {},
   "outputs": [],
   "source": [
    "def rgb_binary_train_padding(model, num_hologram=10, custom_name='fcn', epochs=100, lr=1e-4, z=2e-3, dataset='DIV2K'):\n",
    "    date = datetime.datetime.now() - datetime.timedelta(hours=15)\n",
    "    model.apply(initialize_weights)\n",
    "    mean_psnr_list = []\n",
    "    mean_mse_list = []\n",
    "    max_epoch = 0\n",
    "    max_psnr = 0\n",
    "    crop = torchvision.transforms.CenterCrop(480)\n",
    "    optimizer = torch.optim.Adam(model.parameters(), lr=lr)\n",
    "    sign_function = SignFunction.apply\n",
    "    # path = 'models/'\n",
    "    model_name = f'{date}_{custom_name}_{num_hologram}_{z}'\n",
    "    # make result folder\n",
    "    result_folder = 'result/layer6'+model_name\n",
    "    os.mkdir(result_folder)\n",
    "    num_parameters = count_parameters(model)\n",
    "    model_path = os.path.join(result_folder, 'best')\n",
    "    final_psth = os.path.join(result_folder, 'final')\n",
    "    psnr_result_path = os.path.join(result_folder, 'meanPSNR.npy')\n",
    "    mse_result_path = os.path.join(result_folder, 'meanMSE.npy')\n",
    "    result = {'model_path': model_path, 'psnr_result_path': psnr_result_path,\n",
    "          'mse_result_path': mse_result_path, 'z': z,\n",
    "          'num_hologram': num_hologram, 'lr': lr, 'epochs': epochs,\n",
    "            'num_parameters': num_parameters, 'channels': channels,\n",
    "             'dataset': dataset}\n",
    "    # save result dict\n",
    "    train_psnr_list = []\n",
    "    train_loss_list = []\n",
    "    with open(os.path.join(result_folder, 'result_dict.pickle'), 'wb') as fw:\n",
    "        pickle.dump(result, fw)\n",
    "    for epoch in range(epochs):\n",
    "        model.train()\n",
    "        sum_train_psnr = 0\n",
    "        sum_train_loss = 0\n",
    "        for idx in tqdm.tqdm(difficult_list):\n",
    "            target = train_dataset_center[idx].unsqueeze(0)\n",
    "            out = model(target)\n",
    "            binary, rgb = rgb_binary_sim(out, z)\n",
    "            rgb = crop(rgb)\n",
    "            croped_target = crop(target)\n",
    "            loss = tt.relativeLoss(rgb, croped_target, F.mse_loss)\n",
    "            optimizer.zero_grad()\n",
    "            loss.backward()\n",
    "            optimizer.step()\n",
    "            psnr = tt.relativeLoss(rgb, croped_target, tm.get_PSNR)\n",
    "            sum_train_psnr = sum_train_psnr + psnr\n",
    "            sum_train_loss = sum_train_loss + loss.detach().cpu().numpy()\n",
    "        mean_train_psnr = sum_train_psnr/len(difficult_list)\n",
    "        mean_train_loss = sum_train_loss/len(difficult_list)\n",
    "        train_psnr_list.append(mean_train_psnr)\n",
    "        train_loss_list.append(mean_train_loss)\n",
    "\n",
    "        plt.plot(np.arange(len(train_psnr_list)), train_psnr_list, label=f'max psnr: {max(train_psnr_list)}')\n",
    "        plt.title(model_name+'_train_psnr')\n",
    "        plt.legend()\n",
    "        plt.savefig(os.path.join(result_folder, 'trainPSNR.png'))\n",
    "        plt.clf()\n",
    "        \n",
    "        plt.plot(np.arange(len(train_loss_list)), train_loss_list, label=f'min mse: {min(train_loss_list)}')\n",
    "        plt.title(model_name+'_train_loss')\n",
    "        plt.legend()\n",
    "        plt.savefig(os.path.join(result_folder, 'trainMSE.png'))\n",
    "        plt.clf()\n",
    "        \n",
    "        model.eval()\n",
    "        with torch.no_grad():\n",
    "            psnrList = []\n",
    "            mseList = []\n",
    "            for idx, valid in enumerate(validloader):\n",
    "                out = model(valid)\n",
    "                binary, rgb = rgb_binary_sim(out, z)\n",
    "                rgb = crop(rgb)\n",
    "                croped_target = crop(valid)\n",
    "                psnr = tt.relativeLoss(rgb, croped_target, tm.get_PSNR)\n",
    "                psnrList.append(psnr)\n",
    "                mse = tt.relativeLoss(rgb, croped_target, F.mse_loss).detach().cpu().numpy()\n",
    "                mseList.append(mse)\n",
    "                if idx == 0:\n",
    "                    pl = tt.show_with_insets(rgb, croped_target, correct_colorwise=True)\n",
    "                    pl.save(os.path.join(result_folder, 'penguin.png'))\n",
    "            mean_psnr = sum(psnrList)/len(psnrList)\n",
    "            mean_mse = sum(mseList)/len(mseList)\n",
    "            mean_psnr_list.append(mean_psnr)\n",
    "            mean_mse_list.append(mean_mse)\n",
    "            # save psnr and mse\n",
    "            np.save(psnr_result_path, mean_psnr_list)\n",
    "            np.save(mse_result_path, mean_mse_list)\n",
    "            plt.plot(np.arange(len(mean_psnr_list)), mean_psnr_list,\n",
    "                     label=f'max psnr: {max(mean_psnr_list)}')\n",
    "            plt.title(model_name+'_psnr')\n",
    "            plt.legend()\n",
    "            plt.savefig(os.path.join(result_folder, 'meanPSNR.png'))\n",
    "            plt.clf()\n",
    "            plt.plot(np.arange(len(mean_mse_list)), mean_mse_list,\n",
    "                     label=f'min mse: {min(mean_mse_list)}')\n",
    "            plt.title(model_name+'_mse')\n",
    "            plt.legend()\n",
    "            plt.savefig(os.path.join(result_folder, 'meanMSE.png'))\n",
    "            plt.clf()\n",
    "            print(f'mean PSNR : {mean_psnr} {epoch}/{epochs}')\n",
    "            print(f'mean MSE : {mean_mse} {epoch}/{epochs}')\n",
    "\n",
    "        if mean_psnr > max_psnr:\n",
    "            max_psnr = mean_psnr\n",
    "            max_epoch = epoch\n",
    "            torch.save(model.state_dict(), model_path)\n",
    "        torch.save(model.state_dict(), final_psth)\n",
    "        print(f'max_psnr: {max_psnr}, epoch: {max_epoch}')"
   ]
  },
  {
   "cell_type": "code",
   "execution_count": null,
   "id": "a8b22ec0-bc9c-43d2-a455-54b2b65b1c76",
   "metadata": {
    "scrolled": true
   },
   "outputs": [
    {
     "name": "stderr",
     "output_type": "stream",
     "text": [
      "100%|██████████| 69/69 [00:09<00:00,  7.27it/s]\n"
     ]
    },
    {
     "name": "stdout",
     "output_type": "stream",
     "text": [
      "mean PSNR : 14.159264535903931 0/500\n",
      "mean MSE : 0.04018542450852692 0/500\n",
      "max_psnr: 14.159264535903931, epoch: 0\n"
     ]
    },
    {
     "name": "stderr",
     "output_type": "stream",
     "text": [
      "100%|██████████| 69/69 [00:08<00:00,  7.72it/s]\n"
     ]
    },
    {
     "name": "stdout",
     "output_type": "stream",
     "text": [
      "mean PSNR : 16.09994104385376 1/500\n",
      "mean MSE : 0.025565187791362406 1/500\n",
      "max_psnr: 16.09994104385376, epoch: 1\n"
     ]
    },
    {
     "name": "stderr",
     "output_type": "stream",
     "text": [
      "100%|██████████| 69/69 [00:09<00:00,  7.41it/s]\n"
     ]
    },
    {
     "name": "stdout",
     "output_type": "stream",
     "text": [
      "mean PSNR : 17.351797609329225 2/500\n",
      "mean MSE : 0.019252454414963722 2/500\n",
      "max_psnr: 17.351797609329225, epoch: 2\n"
     ]
    },
    {
     "name": "stderr",
     "output_type": "stream",
     "text": [
      "100%|██████████| 69/69 [00:10<00:00,  6.68it/s]\n"
     ]
    },
    {
     "name": "stdout",
     "output_type": "stream",
     "text": [
      "mean PSNR : 18.00418007850647 3/500\n",
      "mean MSE : 0.016693504806607962 3/500\n",
      "max_psnr: 18.00418007850647, epoch: 3\n"
     ]
    },
    {
     "name": "stderr",
     "output_type": "stream",
     "text": [
      "100%|██████████| 69/69 [00:14<00:00,  4.70it/s]\n"
     ]
    },
    {
     "name": "stdout",
     "output_type": "stream",
     "text": [
      "mean PSNR : 18.368696517944336 4/500\n",
      "mean MSE : 0.01539160673506558 4/500\n",
      "max_psnr: 18.368696517944336, epoch: 4\n"
     ]
    },
    {
     "name": "stderr",
     "output_type": "stream",
     "text": [
      "100%|██████████| 69/69 [00:13<00:00,  5.30it/s]\n"
     ]
    },
    {
     "name": "stdout",
     "output_type": "stream",
     "text": [
      "mean PSNR : 18.68522144317627 5/500\n",
      "mean MSE : 0.014334529526531697 5/500\n",
      "max_psnr: 18.68522144317627, epoch: 5\n"
     ]
    },
    {
     "name": "stderr",
     "output_type": "stream",
     "text": [
      "100%|██████████| 69/69 [00:12<00:00,  5.38it/s]\n"
     ]
    },
    {
     "name": "stdout",
     "output_type": "stream",
     "text": [
      "mean PSNR : 18.82585723876953 6/500\n",
      "mean MSE : 0.013859267730731517 6/500\n",
      "max_psnr: 18.82585723876953, epoch: 6\n"
     ]
    },
    {
     "name": "stderr",
     "output_type": "stream",
     "text": [
      "100%|██████████| 69/69 [00:13<00:00,  5.12it/s]\n"
     ]
    },
    {
     "name": "stdout",
     "output_type": "stream",
     "text": [
      "mean PSNR : 18.91102568626404 7/500\n",
      "mean MSE : 0.01356291065691039 7/500\n",
      "max_psnr: 18.91102568626404, epoch: 7\n"
     ]
    },
    {
     "name": "stderr",
     "output_type": "stream",
     "text": [
      "100%|██████████| 69/69 [00:08<00:00,  7.95it/s]\n"
     ]
    },
    {
     "name": "stdout",
     "output_type": "stream",
     "text": [
      "mean PSNR : 19.10337287902832 8/500\n",
      "mean MSE : 0.012981608035042882 8/500\n",
      "max_psnr: 19.10337287902832, epoch: 8\n"
     ]
    },
    {
     "name": "stderr",
     "output_type": "stream",
     "text": [
      "100%|██████████| 69/69 [00:08<00:00,  7.67it/s]\n"
     ]
    },
    {
     "name": "stdout",
     "output_type": "stream",
     "text": [
      "mean PSNR : 19.193930778503418 9/500\n",
      "mean MSE : 0.012706520904321223 9/500\n",
      "max_psnr: 19.193930778503418, epoch: 9\n"
     ]
    },
    {
     "name": "stderr",
     "output_type": "stream",
     "text": [
      "100%|██████████| 69/69 [00:08<00:00,  8.13it/s]\n"
     ]
    },
    {
     "name": "stdout",
     "output_type": "stream",
     "text": [
      "mean PSNR : 19.263521070480348 10/500\n",
      "mean MSE : 0.012502685575745999 10/500\n",
      "max_psnr: 19.263521070480348, epoch: 10\n"
     ]
    },
    {
     "name": "stderr",
     "output_type": "stream",
     "text": [
      "100%|██████████| 69/69 [00:09<00:00,  7.29it/s]\n"
     ]
    },
    {
     "name": "stdout",
     "output_type": "stream",
     "text": [
      "mean PSNR : 19.288364572525026 11/500\n",
      "mean MSE : 0.01241314368788153 11/500\n",
      "max_psnr: 19.288364572525026, epoch: 11\n"
     ]
    },
    {
     "name": "stderr",
     "output_type": "stream",
     "text": [
      "100%|██████████| 69/69 [00:08<00:00,  8.05it/s]\n"
     ]
    },
    {
     "name": "stdout",
     "output_type": "stream",
     "text": [
      "mean PSNR : 19.303343658447265 12/500\n",
      "mean MSE : 0.012341045271605254 12/500\n",
      "max_psnr: 19.303343658447265, epoch: 12\n"
     ]
    },
    {
     "name": "stderr",
     "output_type": "stream",
     "text": [
      "100%|██████████| 69/69 [00:08<00:00,  7.76it/s]\n"
     ]
    },
    {
     "name": "stdout",
     "output_type": "stream",
     "text": [
      "mean PSNR : 19.398999557495117 13/500\n",
      "mean MSE : 0.012070522475987673 13/500\n",
      "max_psnr: 19.398999557495117, epoch: 13\n"
     ]
    },
    {
     "name": "stderr",
     "output_type": "stream",
     "text": [
      "100%|██████████| 69/69 [00:09<00:00,  7.38it/s]\n"
     ]
    },
    {
     "name": "stdout",
     "output_type": "stream",
     "text": [
      "mean PSNR : 19.456237497329713 14/500\n",
      "mean MSE : 0.011917687449604274 14/500\n",
      "max_psnr: 19.456237497329713, epoch: 14\n"
     ]
    },
    {
     "name": "stderr",
     "output_type": "stream",
     "text": [
      "100%|██████████| 69/69 [00:09<00:00,  7.57it/s]\n"
     ]
    },
    {
     "name": "stdout",
     "output_type": "stream",
     "text": [
      "mean PSNR : 19.5900403213501 15/500\n",
      "mean MSE : 0.011568254143930971 15/500\n",
      "max_psnr: 19.5900403213501, epoch: 15\n"
     ]
    },
    {
     "name": "stderr",
     "output_type": "stream",
     "text": [
      "100%|██████████| 69/69 [00:09<00:00,  7.41it/s]\n"
     ]
    },
    {
     "name": "stdout",
     "output_type": "stream",
     "text": [
      "mean PSNR : 19.656139612197876 16/500\n",
      "mean MSE : 0.011387666068039835 16/500\n",
      "max_psnr: 19.656139612197876, epoch: 16\n"
     ]
    },
    {
     "name": "stderr",
     "output_type": "stream",
     "text": [
      "100%|██████████| 69/69 [00:09<00:00,  7.29it/s]\n"
     ]
    },
    {
     "name": "stdout",
     "output_type": "stream",
     "text": [
      "mean PSNR : 19.708061313629152 17/500\n",
      "mean MSE : 0.011258116150274873 17/500\n",
      "max_psnr: 19.708061313629152, epoch: 17\n"
     ]
    },
    {
     "name": "stderr",
     "output_type": "stream",
     "text": [
      "100%|██████████| 69/69 [00:08<00:00,  8.06it/s]\n"
     ]
    },
    {
     "name": "stdout",
     "output_type": "stream",
     "text": [
      "mean PSNR : 19.88427861213684 18/500\n",
      "mean MSE : 0.010848579574376344 18/500\n",
      "max_psnr: 19.88427861213684, epoch: 18\n"
     ]
    },
    {
     "name": "stderr",
     "output_type": "stream",
     "text": [
      "100%|██████████| 69/69 [00:09<00:00,  7.67it/s]\n"
     ]
    },
    {
     "name": "stdout",
     "output_type": "stream",
     "text": [
      "mean PSNR : 20.04175434112549 19/500\n",
      "mean MSE : 0.010498136458918452 19/500\n",
      "max_psnr: 20.04175434112549, epoch: 19\n"
     ]
    },
    {
     "name": "stderr",
     "output_type": "stream",
     "text": [
      "100%|██████████| 69/69 [00:09<00:00,  7.26it/s]\n"
     ]
    },
    {
     "name": "stdout",
     "output_type": "stream",
     "text": [
      "mean PSNR : 20.161586561203002 20/500\n",
      "mean MSE : 0.010240993972402065 20/500\n",
      "max_psnr: 20.161586561203002, epoch: 20\n"
     ]
    },
    {
     "name": "stderr",
     "output_type": "stream",
     "text": [
      "100%|██████████| 69/69 [00:08<00:00,  8.13it/s]\n"
     ]
    },
    {
     "name": "stdout",
     "output_type": "stream",
     "text": [
      "mean PSNR : 20.153227434158325 21/500\n",
      "mean MSE : 0.010246217981912196 21/500\n",
      "max_psnr: 20.161586561203002, epoch: 20\n"
     ]
    },
    {
     "name": "stderr",
     "output_type": "stream",
     "text": [
      "100%|██████████| 69/69 [00:08<00:00,  8.26it/s]\n"
     ]
    },
    {
     "name": "stdout",
     "output_type": "stream",
     "text": [
      "mean PSNR : 20.256507635116577 22/500\n",
      "mean MSE : 0.010013282522559166 22/500\n",
      "max_psnr: 20.256507635116577, epoch: 22\n"
     ]
    },
    {
     "name": "stderr",
     "output_type": "stream",
     "text": [
      "100%|██████████| 69/69 [00:09<00:00,  7.53it/s]\n"
     ]
    },
    {
     "name": "stdout",
     "output_type": "stream",
     "text": [
      "mean PSNR : 20.293056020736696 23/500\n",
      "mean MSE : 0.009928541162516923 23/500\n",
      "max_psnr: 20.293056020736696, epoch: 23\n"
     ]
    },
    {
     "name": "stderr",
     "output_type": "stream",
     "text": [
      "100%|██████████| 69/69 [00:09<00:00,  7.37it/s]\n"
     ]
    },
    {
     "name": "stdout",
     "output_type": "stream",
     "text": [
      "mean PSNR : 20.48294107437134 24/500\n",
      "mean MSE : 0.009542371507268398 24/500\n",
      "max_psnr: 20.48294107437134, epoch: 24\n"
     ]
    },
    {
     "name": "stderr",
     "output_type": "stream",
     "text": [
      "100%|██████████| 69/69 [00:08<00:00,  7.68it/s]\n"
     ]
    },
    {
     "name": "stdout",
     "output_type": "stream",
     "text": [
      "mean PSNR : 20.594561100006104 25/500\n",
      "mean MSE : 0.009315705257467926 25/500\n",
      "max_psnr: 20.594561100006104, epoch: 25\n"
     ]
    },
    {
     "name": "stderr",
     "output_type": "stream",
     "text": [
      "100%|██████████| 69/69 [00:08<00:00,  8.18it/s]\n"
     ]
    },
    {
     "name": "stdout",
     "output_type": "stream",
     "text": [
      "mean PSNR : 20.64367042541504 26/500\n",
      "mean MSE : 0.009228183473460376 26/500\n",
      "max_psnr: 20.64367042541504, epoch: 26\n"
     ]
    },
    {
     "name": "stderr",
     "output_type": "stream",
     "text": [
      "100%|██████████| 69/69 [00:08<00:00,  8.12it/s]\n"
     ]
    },
    {
     "name": "stdout",
     "output_type": "stream",
     "text": [
      "mean PSNR : 20.844837169647217 27/500\n",
      "mean MSE : 0.008825876892078668 27/500\n",
      "max_psnr: 20.844837169647217, epoch: 27\n"
     ]
    },
    {
     "name": "stderr",
     "output_type": "stream",
     "text": [
      "100%|██████████| 69/69 [00:11<00:00,  5.97it/s]\n"
     ]
    },
    {
     "name": "stdout",
     "output_type": "stream",
     "text": [
      "mean PSNR : 20.825617790222168 28/500\n",
      "mean MSE : 0.008860431544017047 28/500\n",
      "max_psnr: 20.844837169647217, epoch: 27\n"
     ]
    },
    {
     "name": "stderr",
     "output_type": "stream",
     "text": [
      "100%|██████████| 69/69 [00:08<00:00,  7.76it/s]\n"
     ]
    },
    {
     "name": "stdout",
     "output_type": "stream",
     "text": [
      "mean PSNR : 20.918439302444458 29/500\n",
      "mean MSE : 0.008688494155649096 29/500\n",
      "max_psnr: 20.918439302444458, epoch: 29\n"
     ]
    },
    {
     "name": "stderr",
     "output_type": "stream",
     "text": [
      "100%|██████████| 69/69 [00:08<00:00,  8.48it/s]\n"
     ]
    },
    {
     "name": "stdout",
     "output_type": "stream",
     "text": [
      "mean PSNR : 20.954346084594725 30/500\n",
      "mean MSE : 0.008613409115932882 30/500\n",
      "max_psnr: 20.954346084594725, epoch: 30\n"
     ]
    },
    {
     "name": "stderr",
     "output_type": "stream",
     "text": [
      "100%|██████████| 69/69 [00:08<00:00,  8.34it/s]\n"
     ]
    },
    {
     "name": "stdout",
     "output_type": "stream",
     "text": [
      "mean PSNR : 21.01575849533081 31/500\n",
      "mean MSE : 0.008487318020779639 31/500\n",
      "max_psnr: 21.01575849533081, epoch: 31\n"
     ]
    },
    {
     "name": "stderr",
     "output_type": "stream",
     "text": [
      "100%|██████████| 69/69 [00:08<00:00,  8.30it/s]\n"
     ]
    },
    {
     "name": "stdout",
     "output_type": "stream",
     "text": [
      "mean PSNR : 21.076891479492186 32/500\n",
      "mean MSE : 0.008375129897613078 32/500\n",
      "max_psnr: 21.076891479492186, epoch: 32\n"
     ]
    },
    {
     "name": "stderr",
     "output_type": "stream",
     "text": [
      "100%|██████████| 69/69 [00:08<00:00,  7.98it/s]\n"
     ]
    },
    {
     "name": "stdout",
     "output_type": "stream",
     "text": [
      "mean PSNR : 21.110418453216553 33/500\n",
      "mean MSE : 0.008306800241116434 33/500\n",
      "max_psnr: 21.110418453216553, epoch: 33\n"
     ]
    },
    {
     "name": "stderr",
     "output_type": "stream",
     "text": [
      "100%|██████████| 69/69 [00:08<00:00,  8.30it/s]\n"
     ]
    },
    {
     "name": "stdout",
     "output_type": "stream",
     "text": [
      "mean PSNR : 21.236109085083008 34/500\n",
      "mean MSE : 0.008097247739788144 34/500\n",
      "max_psnr: 21.236109085083008, epoch: 34\n"
     ]
    },
    {
     "name": "stderr",
     "output_type": "stream",
     "text": [
      "100%|██████████| 69/69 [00:08<00:00,  8.32it/s]\n"
     ]
    },
    {
     "name": "stdout",
     "output_type": "stream",
     "text": [
      "mean PSNR : 21.26001398086548 35/500\n",
      "mean MSE : 0.008054402556736022 35/500\n",
      "max_psnr: 21.26001398086548, epoch: 35\n"
     ]
    },
    {
     "name": "stderr",
     "output_type": "stream",
     "text": [
      "100%|██████████| 69/69 [00:08<00:00,  8.13it/s]\n"
     ]
    },
    {
     "name": "stdout",
     "output_type": "stream",
     "text": [
      "mean PSNR : 21.25620357513428 36/500\n",
      "mean MSE : 0.008061459029559046 36/500\n",
      "max_psnr: 21.26001398086548, epoch: 35\n"
     ]
    },
    {
     "name": "stderr",
     "output_type": "stream",
     "text": [
      "100%|██████████| 69/69 [00:08<00:00,  8.62it/s]\n"
     ]
    },
    {
     "name": "stdout",
     "output_type": "stream",
     "text": [
      "mean PSNR : 21.315002088546752 37/500\n",
      "mean MSE : 0.00798784694634378 37/500\n",
      "max_psnr: 21.315002088546752, epoch: 37\n"
     ]
    },
    {
     "name": "stderr",
     "output_type": "stream",
     "text": [
      "100%|██████████| 69/69 [00:07<00:00,  8.66it/s]\n"
     ]
    },
    {
     "name": "stdout",
     "output_type": "stream",
     "text": [
      "mean PSNR : 21.414846200942993 38/500\n",
      "mean MSE : 0.007796834248583764 38/500\n",
      "max_psnr: 21.414846200942993, epoch: 38\n"
     ]
    },
    {
     "name": "stderr",
     "output_type": "stream",
     "text": [
      "100%|██████████| 69/69 [00:07<00:00,  8.64it/s]\n"
     ]
    },
    {
     "name": "stdout",
     "output_type": "stream",
     "text": [
      "mean PSNR : 21.476832971572875 39/500\n",
      "mean MSE : 0.0077076365798711775 39/500\n",
      "max_psnr: 21.476832971572875, epoch: 39\n"
     ]
    },
    {
     "name": "stderr",
     "output_type": "stream",
     "text": [
      "100%|██████████| 69/69 [00:07<00:00,  8.68it/s]\n"
     ]
    },
    {
     "name": "stdout",
     "output_type": "stream",
     "text": [
      "mean PSNR : 21.58191732406616 40/500\n",
      "mean MSE : 0.007538107184227556 40/500\n",
      "max_psnr: 21.58191732406616, epoch: 40\n"
     ]
    },
    {
     "name": "stderr",
     "output_type": "stream",
     "text": [
      "100%|██████████| 69/69 [00:07<00:00,  8.66it/s]\n"
     ]
    },
    {
     "name": "stdout",
     "output_type": "stream",
     "text": [
      "mean PSNR : 21.60596616744995 41/500\n",
      "mean MSE : 0.007496561284642667 41/500\n",
      "max_psnr: 21.60596616744995, epoch: 41\n"
     ]
    },
    {
     "name": "stderr",
     "output_type": "stream",
     "text": [
      "100%|██████████| 69/69 [00:08<00:00,  8.52it/s]\n"
     ]
    },
    {
     "name": "stdout",
     "output_type": "stream",
     "text": [
      "mean PSNR : 21.644614114761353 42/500\n",
      "mean MSE : 0.0074516181135550145 42/500\n",
      "max_psnr: 21.644614114761353, epoch: 42\n"
     ]
    },
    {
     "name": "stderr",
     "output_type": "stream",
     "text": [
      "100%|██████████| 69/69 [00:08<00:00,  8.57it/s]\n"
     ]
    },
    {
     "name": "stdout",
     "output_type": "stream",
     "text": [
      "mean PSNR : 21.823783178329467 43/500\n",
      "mean MSE : 0.007187505329493433 43/500\n",
      "max_psnr: 21.823783178329467, epoch: 43\n"
     ]
    },
    {
     "name": "stderr",
     "output_type": "stream",
     "text": [
      "100%|██████████| 69/69 [00:08<00:00,  8.60it/s]\n"
     ]
    },
    {
     "name": "stdout",
     "output_type": "stream",
     "text": [
      "mean PSNR : 21.825144081115724 44/500\n",
      "mean MSE : 0.007187263371888548 44/500\n",
      "max_psnr: 21.825144081115724, epoch: 44\n"
     ]
    },
    {
     "name": "stderr",
     "output_type": "stream",
     "text": [
      "100%|██████████| 69/69 [00:07<00:00,  8.65it/s]\n"
     ]
    },
    {
     "name": "stdout",
     "output_type": "stream",
     "text": [
      "mean PSNR : 21.896308689117433 45/500\n",
      "mean MSE : 0.0070991518092341725 45/500\n",
      "max_psnr: 21.896308689117433, epoch: 45\n"
     ]
    },
    {
     "name": "stderr",
     "output_type": "stream",
     "text": [
      "100%|██████████| 69/69 [00:07<00:00,  8.64it/s]\n"
     ]
    },
    {
     "name": "stdout",
     "output_type": "stream",
     "text": [
      "mean PSNR : 21.79983798980713 46/500\n",
      "mean MSE : 0.0071956217335537075 46/500\n",
      "max_psnr: 21.896308689117433, epoch: 45\n"
     ]
    },
    {
     "name": "stderr",
     "output_type": "stream",
     "text": [
      "100%|██████████| 69/69 [00:07<00:00,  8.66it/s]\n"
     ]
    },
    {
     "name": "stdout",
     "output_type": "stream",
     "text": [
      "mean PSNR : 21.816753787994386 47/500\n",
      "mean MSE : 0.0071724448422901335 47/500\n",
      "max_psnr: 21.896308689117433, epoch: 45\n"
     ]
    },
    {
     "name": "stderr",
     "output_type": "stream",
     "text": [
      "100%|██████████| 69/69 [00:07<00:00,  9.06it/s]\n"
     ]
    },
    {
     "name": "stdout",
     "output_type": "stream",
     "text": [
      "mean PSNR : 21.894274311065672 48/500\n",
      "mean MSE : 0.007066340260207653 48/500\n",
      "max_psnr: 21.896308689117433, epoch: 45\n"
     ]
    },
    {
     "name": "stderr",
     "output_type": "stream",
     "text": [
      "100%|██████████| 69/69 [00:07<00:00,  9.03it/s]\n"
     ]
    },
    {
     "name": "stdout",
     "output_type": "stream",
     "text": [
      "mean PSNR : 21.735676794052125 49/500\n",
      "mean MSE : 0.0072663563163951035 49/500\n",
      "max_psnr: 21.896308689117433, epoch: 45\n"
     ]
    },
    {
     "name": "stderr",
     "output_type": "stream",
     "text": [
      "100%|██████████| 69/69 [00:07<00:00,  9.12it/s]\n"
     ]
    },
    {
     "name": "stdout",
     "output_type": "stream",
     "text": [
      "mean PSNR : 21.871693773269655 50/500\n",
      "mean MSE : 0.007085038898512721 50/500\n",
      "max_psnr: 21.896308689117433, epoch: 45\n"
     ]
    },
    {
     "name": "stderr",
     "output_type": "stream",
     "text": [
      "100%|██████████| 69/69 [00:07<00:00,  9.11it/s]\n"
     ]
    },
    {
     "name": "stdout",
     "output_type": "stream",
     "text": [
      "mean PSNR : 21.894056148529053 51/500\n",
      "mean MSE : 0.0070517017599195245 51/500\n",
      "max_psnr: 21.896308689117433, epoch: 45\n"
     ]
    },
    {
     "name": "stderr",
     "output_type": "stream",
     "text": [
      "100%|██████████| 69/69 [00:07<00:00,  8.91it/s]\n"
     ]
    },
    {
     "name": "stdout",
     "output_type": "stream",
     "text": [
      "mean PSNR : 21.702902069091795 52/500\n",
      "mean MSE : 0.007311584455892444 52/500\n",
      "max_psnr: 21.896308689117433, epoch: 45\n"
     ]
    },
    {
     "name": "stderr",
     "output_type": "stream",
     "text": [
      "100%|██████████| 69/69 [00:07<00:00,  8.99it/s]\n"
     ]
    },
    {
     "name": "stdout",
     "output_type": "stream",
     "text": [
      "mean PSNR : 21.95570340156555 53/500\n",
      "mean MSE : 0.006990525722503662 53/500\n",
      "max_psnr: 21.95570340156555, epoch: 53\n"
     ]
    },
    {
     "name": "stderr",
     "output_type": "stream",
     "text": [
      "100%|██████████| 69/69 [00:08<00:00,  7.80it/s]\n"
     ]
    },
    {
     "name": "stdout",
     "output_type": "stream",
     "text": [
      "mean PSNR : 21.732147941589357 54/500\n",
      "mean MSE : 0.007254328595008701 54/500\n",
      "max_psnr: 21.95570340156555, epoch: 53\n"
     ]
    },
    {
     "name": "stderr",
     "output_type": "stream",
     "text": [
      "100%|██████████| 69/69 [00:07<00:00,  8.73it/s]\n"
     ]
    },
    {
     "name": "stdout",
     "output_type": "stream",
     "text": [
      "mean PSNR : 21.7810400390625 55/500\n",
      "mean MSE : 0.0072038607322610915 55/500\n",
      "max_psnr: 21.95570340156555, epoch: 53\n"
     ]
    },
    {
     "name": "stderr",
     "output_type": "stream",
     "text": [
      "100%|██████████| 69/69 [00:08<00:00,  8.24it/s]\n"
     ]
    },
    {
     "name": "stdout",
     "output_type": "stream",
     "text": [
      "mean PSNR : 21.859453315734864 56/500\n",
      "mean MSE : 0.007073414702899754 56/500\n",
      "max_psnr: 21.95570340156555, epoch: 53\n"
     ]
    },
    {
     "name": "stderr",
     "output_type": "stream",
     "text": [
      "100%|██████████| 69/69 [00:08<00:00,  8.14it/s]\n"
     ]
    },
    {
     "name": "stdout",
     "output_type": "stream",
     "text": [
      "mean PSNR : 21.81732675552368 57/500\n",
      "mean MSE : 0.0071298394724726676 57/500\n",
      "max_psnr: 21.95570340156555, epoch: 53\n"
     ]
    },
    {
     "name": "stderr",
     "output_type": "stream",
     "text": [
      "100%|██████████| 69/69 [00:08<00:00,  8.35it/s]\n"
     ]
    },
    {
     "name": "stdout",
     "output_type": "stream",
     "text": [
      "mean PSNR : 21.813984632492065 58/500\n",
      "mean MSE : 0.007136301959399134 58/500\n",
      "max_psnr: 21.95570340156555, epoch: 53\n"
     ]
    },
    {
     "name": "stderr",
     "output_type": "stream",
     "text": [
      "100%|██████████| 69/69 [00:08<00:00,  8.29it/s]\n"
     ]
    },
    {
     "name": "stdout",
     "output_type": "stream",
     "text": [
      "mean PSNR : 21.795518341064454 59/500\n",
      "mean MSE : 0.007156609063968062 59/500\n",
      "max_psnr: 21.95570340156555, epoch: 53\n"
     ]
    },
    {
     "name": "stderr",
     "output_type": "stream",
     "text": [
      "100%|██████████| 69/69 [00:08<00:00,  8.09it/s]\n"
     ]
    },
    {
     "name": "stdout",
     "output_type": "stream",
     "text": [
      "mean PSNR : 21.457309494018556 60/500\n",
      "mean MSE : 0.00769148109247908 60/500\n",
      "max_psnr: 21.95570340156555, epoch: 53\n"
     ]
    },
    {
     "name": "stderr",
     "output_type": "stream",
     "text": [
      "100%|██████████| 69/69 [00:08<00:00,  7.93it/s]\n"
     ]
    },
    {
     "name": "stdout",
     "output_type": "stream",
     "text": [
      "mean PSNR : 21.343931970596312 61/500\n",
      "mean MSE : 0.007906007531564683 61/500\n",
      "max_psnr: 21.95570340156555, epoch: 53\n"
     ]
    },
    {
     "name": "stderr",
     "output_type": "stream",
     "text": [
      "100%|██████████| 69/69 [00:07<00:00,  8.99it/s]\n"
     ]
    },
    {
     "name": "stdout",
     "output_type": "stream",
     "text": [
      "mean PSNR : 21.6767537689209 62/500\n",
      "mean MSE : 0.007344410480000079 62/500\n",
      "max_psnr: 21.95570340156555, epoch: 53\n"
     ]
    },
    {
     "name": "stderr",
     "output_type": "stream",
     "text": [
      "100%|██████████| 69/69 [00:07<00:00,  8.80it/s]\n"
     ]
    },
    {
     "name": "stdout",
     "output_type": "stream",
     "text": [
      "mean PSNR : 21.731901149749756 63/500\n",
      "mean MSE : 0.007233535663690418 63/500\n",
      "max_psnr: 21.95570340156555, epoch: 53\n"
     ]
    },
    {
     "name": "stderr",
     "output_type": "stream",
     "text": [
      "100%|██████████| 69/69 [00:08<00:00,  8.15it/s]\n"
     ]
    },
    {
     "name": "stdout",
     "output_type": "stream",
     "text": [
      "mean PSNR : 21.780054206848146 64/500\n",
      "mean MSE : 0.007195528300944716 64/500\n",
      "max_psnr: 21.95570340156555, epoch: 53\n"
     ]
    },
    {
     "name": "stderr",
     "output_type": "stream",
     "text": [
      "100%|██████████| 69/69 [00:07<00:00,  8.99it/s]\n"
     ]
    },
    {
     "name": "stdout",
     "output_type": "stream",
     "text": [
      "mean PSNR : 21.909809131622314 65/500\n",
      "mean MSE : 0.006983603781554848 65/500\n",
      "max_psnr: 21.95570340156555, epoch: 53\n"
     ]
    },
    {
     "name": "stderr",
     "output_type": "stream",
     "text": [
      "100%|██████████| 69/69 [00:07<00:00,  9.05it/s]\n"
     ]
    },
    {
     "name": "stdout",
     "output_type": "stream",
     "text": [
      "mean PSNR : 22.09767903327942 66/500\n",
      "mean MSE : 0.006732266570907086 66/500\n",
      "max_psnr: 22.09767903327942, epoch: 66\n"
     ]
    },
    {
     "name": "stderr",
     "output_type": "stream",
     "text": [
      "100%|██████████| 69/69 [00:07<00:00,  9.04it/s]\n"
     ]
    },
    {
     "name": "stdout",
     "output_type": "stream",
     "text": [
      "mean PSNR : 22.173027954101563 67/500\n",
      "mean MSE : 0.00665000977460295 67/500\n",
      "max_psnr: 22.173027954101563, epoch: 67\n"
     ]
    },
    {
     "name": "stderr",
     "output_type": "stream",
     "text": [
      "100%|██████████| 69/69 [00:07<00:00,  8.99it/s]\n"
     ]
    },
    {
     "name": "stdout",
     "output_type": "stream",
     "text": [
      "mean PSNR : 22.115860452651976 68/500\n",
      "mean MSE : 0.006721104518510402 68/500\n",
      "max_psnr: 22.173027954101563, epoch: 67\n"
     ]
    },
    {
     "name": "stderr",
     "output_type": "stream",
     "text": [
      "100%|██████████| 69/69 [00:07<00:00,  9.02it/s]\n"
     ]
    },
    {
     "name": "stdout",
     "output_type": "stream",
     "text": [
      "mean PSNR : 21.974114809036255 69/500\n",
      "mean MSE : 0.0069026976241730155 69/500\n",
      "max_psnr: 22.173027954101563, epoch: 67\n"
     ]
    },
    {
     "name": "stderr",
     "output_type": "stream",
     "text": [
      "100%|██████████| 69/69 [00:08<00:00,  8.50it/s]\n"
     ]
    },
    {
     "name": "stdout",
     "output_type": "stream",
     "text": [
      "mean PSNR : 21.971095085144043 70/500\n",
      "mean MSE : 0.006913806013762951 70/500\n",
      "max_psnr: 22.173027954101563, epoch: 67\n"
     ]
    },
    {
     "name": "stderr",
     "output_type": "stream",
     "text": [
      "100%|██████████| 69/69 [00:08<00:00,  8.58it/s]\n"
     ]
    },
    {
     "name": "stdout",
     "output_type": "stream",
     "text": [
      "mean PSNR : 21.752090330123902 71/500\n",
      "mean MSE : 0.00721968061523512 71/500\n",
      "max_psnr: 22.173027954101563, epoch: 67\n"
     ]
    },
    {
     "name": "stderr",
     "output_type": "stream",
     "text": [
      "100%|██████████| 69/69 [00:08<00:00,  7.81it/s]\n"
     ]
    },
    {
     "name": "stdout",
     "output_type": "stream",
     "text": [
      "mean PSNR : 21.95247859954834 72/500\n",
      "mean MSE : 0.006938406566623598 72/500\n",
      "max_psnr: 22.173027954101563, epoch: 67\n"
     ]
    },
    {
     "name": "stderr",
     "output_type": "stream",
     "text": [
      "100%|██████████| 69/69 [00:08<00:00,  8.47it/s]\n"
     ]
    },
    {
     "name": "stdout",
     "output_type": "stream",
     "text": [
      "mean PSNR : 22.01447187423706 73/500\n",
      "mean MSE : 0.006844989459495992 73/500\n",
      "max_psnr: 22.173027954101563, epoch: 67\n"
     ]
    },
    {
     "name": "stderr",
     "output_type": "stream",
     "text": [
      "100%|██████████| 69/69 [00:08<00:00,  8.45it/s]\n"
     ]
    },
    {
     "name": "stdout",
     "output_type": "stream",
     "text": [
      "mean PSNR : 22.202905712127684 74/500\n",
      "mean MSE : 0.006591522777453065 74/500\n",
      "max_psnr: 22.202905712127684, epoch: 74\n"
     ]
    },
    {
     "name": "stderr",
     "output_type": "stream",
     "text": [
      "100%|██████████| 69/69 [00:07<00:00,  8.94it/s]\n"
     ]
    },
    {
     "name": "stdout",
     "output_type": "stream",
     "text": [
      "mean PSNR : 22.23547124862671 75/500\n",
      "mean MSE : 0.006583021292462945 75/500\n",
      "max_psnr: 22.23547124862671, epoch: 75\n"
     ]
    },
    {
     "name": "stderr",
     "output_type": "stream",
     "text": [
      "100%|██████████| 69/69 [00:08<00:00,  8.32it/s]\n"
     ]
    },
    {
     "name": "stdout",
     "output_type": "stream",
     "text": [
      "mean PSNR : 22.119855546951293 76/500\n",
      "mean MSE : 0.006721087440382689 76/500\n",
      "max_psnr: 22.23547124862671, epoch: 75\n"
     ]
    },
    {
     "name": "stderr",
     "output_type": "stream",
     "text": [
      "100%|██████████| 69/69 [00:07<00:00,  8.97it/s]\n"
     ]
    },
    {
     "name": "stdout",
     "output_type": "stream",
     "text": [
      "mean PSNR : 22.14027943611145 77/500\n",
      "mean MSE : 0.006689572739414871 77/500\n",
      "max_psnr: 22.23547124862671, epoch: 75\n"
     ]
    },
    {
     "name": "stderr",
     "output_type": "stream",
     "text": [
      "100%|██████████| 69/69 [00:07<00:00,  8.85it/s]\n"
     ]
    },
    {
     "name": "stdout",
     "output_type": "stream",
     "text": [
      "mean PSNR : 22.048970317840578 78/500\n",
      "mean MSE : 0.006801411684136838 78/500\n",
      "max_psnr: 22.23547124862671, epoch: 75\n"
     ]
    },
    {
     "name": "stderr",
     "output_type": "stream",
     "text": [
      "100%|██████████| 69/69 [00:07<00:00,  8.77it/s]\n"
     ]
    },
    {
     "name": "stdout",
     "output_type": "stream",
     "text": [
      "mean PSNR : 22.161446590423584 79/500\n",
      "mean MSE : 0.006655881875194609 79/500\n",
      "max_psnr: 22.23547124862671, epoch: 75\n"
     ]
    },
    {
     "name": "stderr",
     "output_type": "stream",
     "text": [
      "100%|██████████| 69/69 [00:07<00:00,  8.96it/s]\n"
     ]
    },
    {
     "name": "stdout",
     "output_type": "stream",
     "text": [
      "mean PSNR : 22.248918170928956 80/500\n",
      "mean MSE : 0.006555159678682685 80/500\n",
      "max_psnr: 22.248918170928956, epoch: 80\n"
     ]
    },
    {
     "name": "stderr",
     "output_type": "stream",
     "text": [
      "100%|██████████| 69/69 [00:07<00:00,  9.03it/s]\n"
     ]
    },
    {
     "name": "stdout",
     "output_type": "stream",
     "text": [
      "mean PSNR : 22.172068605422975 81/500\n",
      "mean MSE : 0.006636467145290226 81/500\n",
      "max_psnr: 22.248918170928956, epoch: 80\n"
     ]
    },
    {
     "name": "stderr",
     "output_type": "stream",
     "text": [
      "100%|██████████| 69/69 [00:08<00:00,  8.40it/s]\n"
     ]
    },
    {
     "name": "stdout",
     "output_type": "stream",
     "text": [
      "mean PSNR : 22.381068477630617 82/500\n",
      "mean MSE : 0.006381643582135439 82/500\n",
      "max_psnr: 22.381068477630617, epoch: 82\n"
     ]
    },
    {
     "name": "stderr",
     "output_type": "stream",
     "text": [
      "100%|██████████| 69/69 [00:07<00:00,  9.07it/s]\n"
     ]
    },
    {
     "name": "stdout",
     "output_type": "stream",
     "text": [
      "mean PSNR : 21.98968951225281 83/500\n",
      "mean MSE : 0.0068648008140735324 83/500\n",
      "max_psnr: 22.381068477630617, epoch: 82\n"
     ]
    },
    {
     "name": "stderr",
     "output_type": "stream",
     "text": [
      "100%|██████████| 69/69 [00:07<00:00,  9.12it/s]\n"
     ]
    },
    {
     "name": "stdout",
     "output_type": "stream",
     "text": [
      "mean PSNR : 22.041266441345215 84/500\n",
      "mean MSE : 0.006807905179448426 84/500\n",
      "max_psnr: 22.381068477630617, epoch: 82\n"
     ]
    },
    {
     "name": "stderr",
     "output_type": "stream",
     "text": [
      "100%|██████████| 69/69 [00:07<00:00,  9.21it/s]\n"
     ]
    },
    {
     "name": "stdout",
     "output_type": "stream",
     "text": [
      "mean PSNR : 22.505865068435668 85/500\n",
      "mean MSE : 0.00623446507495828 85/500\n",
      "max_psnr: 22.505865068435668, epoch: 85\n"
     ]
    },
    {
     "name": "stderr",
     "output_type": "stream",
     "text": [
      "100%|██████████| 69/69 [00:08<00:00,  8.49it/s]\n"
     ]
    },
    {
     "name": "stdout",
     "output_type": "stream",
     "text": [
      "mean PSNR : 22.47042830467224 86/500\n",
      "mean MSE : 0.006281561767682433 86/500\n",
      "max_psnr: 22.505865068435668, epoch: 85\n"
     ]
    },
    {
     "name": "stderr",
     "output_type": "stream",
     "text": [
      "100%|██████████| 69/69 [00:07<00:00,  9.12it/s]\n"
     ]
    },
    {
     "name": "stdout",
     "output_type": "stream",
     "text": [
      "mean PSNR : 22.33037311553955 87/500\n",
      "mean MSE : 0.006438159490935505 87/500\n",
      "max_psnr: 22.505865068435668, epoch: 85\n"
     ]
    },
    {
     "name": "stderr",
     "output_type": "stream",
     "text": [
      "100%|██████████| 69/69 [00:07<00:00,  9.01it/s]\n"
     ]
    },
    {
     "name": "stdout",
     "output_type": "stream",
     "text": [
      "mean PSNR : 22.1825244140625 88/500\n",
      "mean MSE : 0.006649416519794613 88/500\n",
      "max_psnr: 22.505865068435668, epoch: 85\n"
     ]
    },
    {
     "name": "stderr",
     "output_type": "stream",
     "text": [
      "100%|██████████| 69/69 [00:07<00:00,  8.79it/s]\n"
     ]
    },
    {
     "name": "stdout",
     "output_type": "stream",
     "text": [
      "mean PSNR : 22.043267517089845 89/500\n",
      "mean MSE : 0.00681562362704426 89/500\n",
      "max_psnr: 22.505865068435668, epoch: 85\n"
     ]
    },
    {
     "name": "stderr",
     "output_type": "stream",
     "text": [
      "100%|██████████| 69/69 [00:07<00:00,  8.68it/s]\n"
     ]
    },
    {
     "name": "stdout",
     "output_type": "stream",
     "text": [
      "mean PSNR : 22.103455572128297 90/500\n",
      "mean MSE : 0.0067331598396413025 90/500\n",
      "max_psnr: 22.505865068435668, epoch: 85\n"
     ]
    },
    {
     "name": "stderr",
     "output_type": "stream",
     "text": [
      "100%|██████████| 69/69 [00:08<00:00,  8.00it/s]\n"
     ]
    },
    {
     "name": "stdout",
     "output_type": "stream",
     "text": [
      "mean PSNR : 22.33197232246399 91/500\n",
      "mean MSE : 0.006414031554013491 91/500\n",
      "max_psnr: 22.505865068435668, epoch: 85\n"
     ]
    },
    {
     "name": "stderr",
     "output_type": "stream",
     "text": [
      "100%|██████████| 69/69 [00:08<00:00,  8.27it/s]\n"
     ]
    },
    {
     "name": "stdout",
     "output_type": "stream",
     "text": [
      "mean PSNR : 22.416185035705567 92/500\n",
      "mean MSE : 0.006317523652687669 92/500\n",
      "max_psnr: 22.505865068435668, epoch: 85\n"
     ]
    },
    {
     "name": "stderr",
     "output_type": "stream",
     "text": [
      "100%|██████████| 69/69 [00:08<00:00,  8.21it/s]\n"
     ]
    },
    {
     "name": "stdout",
     "output_type": "stream",
     "text": [
      "mean PSNR : 22.56152419090271 93/500\n",
      "mean MSE : 0.006168108880519867 93/500\n",
      "max_psnr: 22.56152419090271, epoch: 93\n"
     ]
    },
    {
     "name": "stderr",
     "output_type": "stream",
     "text": [
      "100%|██████████| 69/69 [00:08<00:00,  8.52it/s]\n"
     ]
    },
    {
     "name": "stdout",
     "output_type": "stream",
     "text": [
      "mean PSNR : 22.287329921722414 94/500\n",
      "mean MSE : 0.006500983033329248 94/500\n",
      "max_psnr: 22.56152419090271, epoch: 93\n"
     ]
    },
    {
     "name": "stderr",
     "output_type": "stream",
     "text": [
      "100%|██████████| 69/69 [00:08<00:00,  8.27it/s]\n"
     ]
    },
    {
     "name": "stdout",
     "output_type": "stream",
     "text": [
      "mean PSNR : 22.06809652328491 95/500\n",
      "mean MSE : 0.00682406848995015 95/500\n",
      "max_psnr: 22.56152419090271, epoch: 93\n"
     ]
    },
    {
     "name": "stderr",
     "output_type": "stream",
     "text": [
      "100%|██████████| 69/69 [00:07<00:00,  8.98it/s]\n"
     ]
    },
    {
     "name": "stdout",
     "output_type": "stream",
     "text": [
      "mean PSNR : 22.30866117477417 96/500\n",
      "mean MSE : 0.006458495499100536 96/500\n",
      "max_psnr: 22.56152419090271, epoch: 93\n"
     ]
    },
    {
     "name": "stderr",
     "output_type": "stream",
     "text": [
      "100%|██████████| 69/69 [00:09<00:00,  7.40it/s]\n"
     ]
    },
    {
     "name": "stdout",
     "output_type": "stream",
     "text": [
      "mean PSNR : 22.4282896900177 97/500\n",
      "mean MSE : 0.006310554905794561 97/500\n",
      "max_psnr: 22.56152419090271, epoch: 93\n"
     ]
    },
    {
     "name": "stderr",
     "output_type": "stream",
     "text": [
      "100%|██████████| 69/69 [00:07<00:00,  8.95it/s]\n"
     ]
    },
    {
     "name": "stdout",
     "output_type": "stream",
     "text": [
      "mean PSNR : 22.453001670837402 98/500\n",
      "mean MSE : 0.006283629944082349 98/500\n",
      "max_psnr: 22.56152419090271, epoch: 93\n"
     ]
    },
    {
     "name": "stderr",
     "output_type": "stream",
     "text": [
      "100%|██████████| 69/69 [00:07<00:00,  8.89it/s]\n"
     ]
    },
    {
     "name": "stdout",
     "output_type": "stream",
     "text": [
      "mean PSNR : 22.598919916152955 99/500\n",
      "mean MSE : 0.006124361973488704 99/500\n",
      "max_psnr: 22.598919916152955, epoch: 99\n"
     ]
    },
    {
     "name": "stderr",
     "output_type": "stream",
     "text": [
      "100%|██████████| 69/69 [00:07<00:00,  9.08it/s]\n"
     ]
    },
    {
     "name": "stdout",
     "output_type": "stream",
     "text": [
      "mean PSNR : 22.468702392578123 100/500\n",
      "mean MSE : 0.00625909494701773 100/500\n",
      "max_psnr: 22.598919916152955, epoch: 99\n"
     ]
    },
    {
     "name": "stderr",
     "output_type": "stream",
     "text": [
      "100%|██████████| 69/69 [00:08<00:00,  8.44it/s]\n"
     ]
    },
    {
     "name": "stdout",
     "output_type": "stream",
     "text": [
      "mean PSNR : 22.499718017578125 101/500\n",
      "mean MSE : 0.006234838021919131 101/500\n",
      "max_psnr: 22.598919916152955, epoch: 99\n"
     ]
    },
    {
     "name": "stderr",
     "output_type": "stream",
     "text": [
      "100%|██████████| 69/69 [00:08<00:00,  8.61it/s]\n"
     ]
    },
    {
     "name": "stdout",
     "output_type": "stream",
     "text": [
      "mean PSNR : 22.187187280654907 102/500\n",
      "mean MSE : 0.006616118398960679 102/500\n",
      "max_psnr: 22.598919916152955, epoch: 99\n"
     ]
    },
    {
     "name": "stderr",
     "output_type": "stream",
     "text": [
      "100%|██████████| 69/69 [00:07<00:00,  9.02it/s]\n"
     ]
    },
    {
     "name": "stdout",
     "output_type": "stream",
     "text": [
      "mean PSNR : 22.704275436401367 103/500\n",
      "mean MSE : 0.00598325130995363 103/500\n",
      "max_psnr: 22.704275436401367, epoch: 103\n"
     ]
    },
    {
     "name": "stderr",
     "output_type": "stream",
     "text": [
      "100%|██████████| 69/69 [00:08<00:00,  8.45it/s]\n"
     ]
    },
    {
     "name": "stdout",
     "output_type": "stream",
     "text": [
      "mean PSNR : 22.547603101730346 104/500\n",
      "mean MSE : 0.006171840069582686 104/500\n",
      "max_psnr: 22.704275436401367, epoch: 103\n"
     ]
    },
    {
     "name": "stderr",
     "output_type": "stream",
     "text": [
      "100%|██████████| 69/69 [00:08<00:00,  8.21it/s]\n"
     ]
    },
    {
     "name": "stdout",
     "output_type": "stream",
     "text": [
      "mean PSNR : 22.674576873779298 105/500\n",
      "mean MSE : 0.006013514471706003 105/500\n",
      "max_psnr: 22.704275436401367, epoch: 103\n"
     ]
    },
    {
     "name": "stderr",
     "output_type": "stream",
     "text": [
      "100%|██████████| 69/69 [00:08<00:00,  8.30it/s]\n"
     ]
    },
    {
     "name": "stdout",
     "output_type": "stream",
     "text": [
      "mean PSNR : 22.62904718399048 106/500\n",
      "mean MSE : 0.006059018298983574 106/500\n",
      "max_psnr: 22.704275436401367, epoch: 103\n"
     ]
    },
    {
     "name": "stderr",
     "output_type": "stream",
     "text": [
      "100%|██████████| 69/69 [00:08<00:00,  8.35it/s]\n"
     ]
    },
    {
     "name": "stdout",
     "output_type": "stream",
     "text": [
      "mean PSNR : 22.485805912017824 107/500\n",
      "mean MSE : 0.006227981860283762 107/500\n",
      "max_psnr: 22.704275436401367, epoch: 103\n"
     ]
    },
    {
     "name": "stderr",
     "output_type": "stream",
     "text": [
      "100%|██████████| 69/69 [00:08<00:00,  8.36it/s]\n"
     ]
    },
    {
     "name": "stdout",
     "output_type": "stream",
     "text": [
      "mean PSNR : 22.528472175598143 108/500\n",
      "mean MSE : 0.006181578851537779 108/500\n",
      "max_psnr: 22.704275436401367, epoch: 103\n"
     ]
    },
    {
     "name": "stderr",
     "output_type": "stream",
     "text": [
      "100%|██████████| 69/69 [00:08<00:00,  8.31it/s]\n"
     ]
    },
    {
     "name": "stdout",
     "output_type": "stream",
     "text": [
      "mean PSNR : 22.5477038192749 109/500\n",
      "mean MSE : 0.006148712731665 109/500\n",
      "max_psnr: 22.704275436401367, epoch: 103\n"
     ]
    },
    {
     "name": "stderr",
     "output_type": "stream",
     "text": [
      "100%|██████████| 69/69 [00:07<00:00,  8.81it/s]\n"
     ]
    },
    {
     "name": "stdout",
     "output_type": "stream",
     "text": [
      "mean PSNR : 22.54022376060486 110/500\n",
      "mean MSE : 0.006149873397080227 110/500\n",
      "max_psnr: 22.704275436401367, epoch: 103\n"
     ]
    },
    {
     "name": "stderr",
     "output_type": "stream",
     "text": [
      "100%|██████████| 69/69 [00:07<00:00,  9.00it/s]\n"
     ]
    },
    {
     "name": "stdout",
     "output_type": "stream",
     "text": [
      "mean PSNR : 22.409332246780394 111/500\n",
      "mean MSE : 0.0063173270772676916 111/500\n",
      "max_psnr: 22.704275436401367, epoch: 103\n"
     ]
    },
    {
     "name": "stderr",
     "output_type": "stream",
     "text": [
      "100%|██████████| 69/69 [00:07<00:00,  9.02it/s]\n"
     ]
    },
    {
     "name": "stdout",
     "output_type": "stream",
     "text": [
      "mean PSNR : 22.84693295478821 112/500\n",
      "mean MSE : 0.005814466649899259 112/500\n",
      "max_psnr: 22.84693295478821, epoch: 112\n"
     ]
    },
    {
     "name": "stderr",
     "output_type": "stream",
     "text": [
      "100%|██████████| 69/69 [00:08<00:00,  8.31it/s]\n"
     ]
    },
    {
     "name": "stdout",
     "output_type": "stream",
     "text": [
      "mean PSNR : 22.769868364334105 113/500\n",
      "mean MSE : 0.005892770948121324 113/500\n",
      "max_psnr: 22.84693295478821, epoch: 112\n"
     ]
    },
    {
     "name": "stderr",
     "output_type": "stream",
     "text": [
      "100%|██████████| 69/69 [00:07<00:00,  9.03it/s]\n"
     ]
    },
    {
     "name": "stdout",
     "output_type": "stream",
     "text": [
      "mean PSNR : 22.423709869384766 114/500\n",
      "mean MSE : 0.0062782516237348315 114/500\n",
      "max_psnr: 22.84693295478821, epoch: 112\n"
     ]
    },
    {
     "name": "stderr",
     "output_type": "stream",
     "text": [
      "100%|██████████| 69/69 [00:07<00:00,  9.02it/s]\n"
     ]
    },
    {
     "name": "stdout",
     "output_type": "stream",
     "text": [
      "mean PSNR : 22.39090792655945 115/500\n",
      "mean MSE : 0.006321589491562918 115/500\n",
      "max_psnr: 22.84693295478821, epoch: 112\n"
     ]
    },
    {
     "name": "stderr",
     "output_type": "stream",
     "text": [
      "100%|██████████| 69/69 [00:07<00:00,  8.98it/s]\n"
     ]
    },
    {
     "name": "stdout",
     "output_type": "stream",
     "text": [
      "mean PSNR : 22.310482349395752 116/500\n",
      "mean MSE : 0.006446901886956766 116/500\n",
      "max_psnr: 22.84693295478821, epoch: 112\n"
     ]
    },
    {
     "name": "stderr",
     "output_type": "stream",
     "text": [
      "100%|██████████| 69/69 [00:08<00:00,  8.38it/s]\n"
     ]
    },
    {
     "name": "stdout",
     "output_type": "stream",
     "text": [
      "mean PSNR : 22.479086494445802 117/500\n",
      "mean MSE : 0.006199531756574288 117/500\n",
      "max_psnr: 22.84693295478821, epoch: 112\n"
     ]
    },
    {
     "name": "stderr",
     "output_type": "stream",
     "text": [
      "100%|██████████| 69/69 [00:08<00:00,  8.58it/s]\n"
     ]
    },
    {
     "name": "stdout",
     "output_type": "stream",
     "text": [
      "mean PSNR : 22.500777740478515 118/500\n",
      "mean MSE : 0.006184918755898252 118/500\n",
      "max_psnr: 22.84693295478821, epoch: 112\n"
     ]
    },
    {
     "name": "stderr",
     "output_type": "stream",
     "text": [
      "100%|██████████| 69/69 [00:08<00:00,  8.33it/s]\n"
     ]
    },
    {
     "name": "stdout",
     "output_type": "stream",
     "text": [
      "mean PSNR : 22.059808502197267 119/500\n",
      "mean MSE : 0.00676089622778818 119/500\n",
      "max_psnr: 22.84693295478821, epoch: 112\n"
     ]
    },
    {
     "name": "stderr",
     "output_type": "stream",
     "text": [
      "100%|██████████| 69/69 [00:07<00:00,  8.93it/s]\n"
     ]
    },
    {
     "name": "stdout",
     "output_type": "stream",
     "text": [
      "mean PSNR : 22.644374389648437 120/500\n",
      "mean MSE : 0.006012375114951282 120/500\n",
      "max_psnr: 22.84693295478821, epoch: 112\n"
     ]
    },
    {
     "name": "stderr",
     "output_type": "stream",
     "text": [
      "100%|██████████| 69/69 [00:08<00:00,  8.46it/s]\n"
     ]
    },
    {
     "name": "stdout",
     "output_type": "stream",
     "text": [
      "mean PSNR : 22.628678007125856 121/500\n",
      "mean MSE : 0.006040479629300535 121/500\n",
      "max_psnr: 22.84693295478821, epoch: 112\n"
     ]
    },
    {
     "name": "stderr",
     "output_type": "stream",
     "text": [
      "100%|██████████| 69/69 [00:07<00:00,  8.74it/s]\n"
     ]
    },
    {
     "name": "stdout",
     "output_type": "stream",
     "text": [
      "mean PSNR : 22.645237379074096 122/500\n",
      "mean MSE : 0.006017299453960731 122/500\n",
      "max_psnr: 22.84693295478821, epoch: 112\n"
     ]
    },
    {
     "name": "stderr",
     "output_type": "stream",
     "text": [
      "100%|██████████| 69/69 [00:08<00:00,  8.19it/s]\n"
     ]
    },
    {
     "name": "stdout",
     "output_type": "stream",
     "text": [
      "mean PSNR : 22.15840796470642 123/500\n",
      "mean MSE : 0.00662303319433704 123/500\n",
      "max_psnr: 22.84693295478821, epoch: 112\n"
     ]
    },
    {
     "name": "stderr",
     "output_type": "stream",
     "text": [
      "100%|██████████| 69/69 [00:08<00:00,  8.15it/s]\n"
     ]
    },
    {
     "name": "stdout",
     "output_type": "stream",
     "text": [
      "mean PSNR : 22.036622009277345 124/500\n",
      "mean MSE : 0.006798290562583134 124/500\n",
      "max_psnr: 22.84693295478821, epoch: 112\n"
     ]
    },
    {
     "name": "stderr",
     "output_type": "stream",
     "text": [
      "100%|██████████| 69/69 [00:07<00:00,  8.63it/s]\n"
     ]
    },
    {
     "name": "stdout",
     "output_type": "stream",
     "text": [
      "mean PSNR : 22.17976360321045 125/500\n",
      "mean MSE : 0.006590668256394565 125/500\n",
      "max_psnr: 22.84693295478821, epoch: 112\n"
     ]
    },
    {
     "name": "stderr",
     "output_type": "stream",
     "text": [
      "100%|██████████| 69/69 [00:08<00:00,  8.26it/s]\n"
     ]
    },
    {
     "name": "stdout",
     "output_type": "stream",
     "text": [
      "mean PSNR : 22.143339700698853 126/500\n",
      "mean MSE : 0.006620433328207582 126/500\n",
      "max_psnr: 22.84693295478821, epoch: 112\n"
     ]
    },
    {
     "name": "stderr",
     "output_type": "stream",
     "text": [
      "100%|██████████| 69/69 [00:08<00:00,  8.60it/s]\n"
     ]
    },
    {
     "name": "stdout",
     "output_type": "stream",
     "text": [
      "mean PSNR : 22.629270811080932 127/500\n",
      "mean MSE : 0.006000371113186702 127/500\n",
      "max_psnr: 22.84693295478821, epoch: 112\n"
     ]
    },
    {
     "name": "stderr",
     "output_type": "stream",
     "text": [
      "100%|██████████| 69/69 [00:08<00:00,  8.54it/s]\n"
     ]
    },
    {
     "name": "stdout",
     "output_type": "stream",
     "text": [
      "mean PSNR : 22.754050464630126 128/500\n",
      "mean MSE : 0.0058688741957303135 128/500\n",
      "max_psnr: 22.84693295478821, epoch: 112\n"
     ]
    },
    {
     "name": "stderr",
     "output_type": "stream",
     "text": [
      "100%|██████████| 69/69 [00:07<00:00,  8.65it/s]\n"
     ]
    },
    {
     "name": "stdout",
     "output_type": "stream",
     "text": [
      "mean PSNR : 22.657664232254028 129/500\n",
      "mean MSE : 0.00599456715863198 129/500\n",
      "max_psnr: 22.84693295478821, epoch: 112\n"
     ]
    },
    {
     "name": "stderr",
     "output_type": "stream",
     "text": [
      "100%|██████████| 69/69 [00:07<00:00,  8.67it/s]\n"
     ]
    },
    {
     "name": "stdout",
     "output_type": "stream",
     "text": [
      "mean PSNR : 22.726748561859132 130/500\n",
      "mean MSE : 0.005911766886711121 130/500\n",
      "max_psnr: 22.84693295478821, epoch: 112\n"
     ]
    },
    {
     "name": "stderr",
     "output_type": "stream",
     "text": [
      "100%|██████████| 69/69 [00:07<00:00,  8.65it/s]\n"
     ]
    },
    {
     "name": "stdout",
     "output_type": "stream",
     "text": [
      "mean PSNR : 22.623446283340453 131/500\n",
      "mean MSE : 0.00602955287322402 131/500\n",
      "max_psnr: 22.84693295478821, epoch: 112\n"
     ]
    },
    {
     "name": "stderr",
     "output_type": "stream",
     "text": [
      "100%|██████████| 69/69 [00:08<00:00,  8.35it/s]\n"
     ]
    },
    {
     "name": "stdout",
     "output_type": "stream",
     "text": [
      "mean PSNR : 22.67088914871216 132/500\n",
      "mean MSE : 0.005968609682749957 132/500\n",
      "max_psnr: 22.84693295478821, epoch: 112\n"
     ]
    },
    {
     "name": "stderr",
     "output_type": "stream",
     "text": [
      "100%|██████████| 69/69 [00:08<00:00,  8.57it/s]\n"
     ]
    },
    {
     "name": "stdout",
     "output_type": "stream",
     "text": [
      "mean PSNR : 22.716973781585693 133/500\n",
      "mean MSE : 0.005952653015265241 133/500\n",
      "max_psnr: 22.84693295478821, epoch: 112\n"
     ]
    },
    {
     "name": "stderr",
     "output_type": "stream",
     "text": [
      "100%|██████████| 69/69 [00:08<00:00,  8.54it/s]\n"
     ]
    },
    {
     "name": "stdout",
     "output_type": "stream",
     "text": [
      "mean PSNR : 22.717860870361328 134/500\n",
      "mean MSE : 0.005927985152229667 134/500\n",
      "max_psnr: 22.84693295478821, epoch: 112\n"
     ]
    },
    {
     "name": "stderr",
     "output_type": "stream",
     "text": [
      "100%|██████████| 69/69 [00:08<00:00,  8.33it/s]\n"
     ]
    },
    {
     "name": "stdout",
     "output_type": "stream",
     "text": [
      "mean PSNR : 22.940050296783447 135/500\n",
      "mean MSE : 0.005703870132565498 135/500\n",
      "max_psnr: 22.940050296783447, epoch: 135\n"
     ]
    },
    {
     "name": "stderr",
     "output_type": "stream",
     "text": [
      "100%|██████████| 69/69 [00:08<00:00,  7.68it/s]\n"
     ]
    },
    {
     "name": "stdout",
     "output_type": "stream",
     "text": [
      "mean PSNR : 22.895017395019533 136/500\n",
      "mean MSE : 0.0057304690068122 136/500\n",
      "max_psnr: 22.940050296783447, epoch: 135\n"
     ]
    },
    {
     "name": "stderr",
     "output_type": "stream",
     "text": [
      "100%|██████████| 69/69 [00:08<00:00,  8.03it/s]\n"
     ]
    },
    {
     "name": "stdout",
     "output_type": "stream",
     "text": [
      "mean PSNR : 22.976057395935058 137/500\n",
      "mean MSE : 0.0056748015130870045 137/500\n",
      "max_psnr: 22.976057395935058, epoch: 137\n"
     ]
    },
    {
     "name": "stderr",
     "output_type": "stream",
     "text": [
      "100%|██████████| 69/69 [00:08<00:00,  8.02it/s]\n"
     ]
    },
    {
     "name": "stdout",
     "output_type": "stream",
     "text": [
      "mean PSNR : 22.911474599838257 138/500\n",
      "mean MSE : 0.005744947483763098 138/500\n",
      "max_psnr: 22.976057395935058, epoch: 137\n"
     ]
    },
    {
     "name": "stderr",
     "output_type": "stream",
     "text": [
      "100%|██████████| 69/69 [00:08<00:00,  8.60it/s]\n"
     ]
    },
    {
     "name": "stdout",
     "output_type": "stream",
     "text": [
      "mean PSNR : 22.834119358062743 139/500\n",
      "mean MSE : 0.005820622117025778 139/500\n",
      "max_psnr: 22.976057395935058, epoch: 137\n"
     ]
    },
    {
     "name": "stderr",
     "output_type": "stream",
     "text": [
      "100%|██████████| 69/69 [00:08<00:00,  8.42it/s]\n"
     ]
    },
    {
     "name": "stdout",
     "output_type": "stream",
     "text": [
      "mean PSNR : 22.856318063735962 140/500\n",
      "mean MSE : 0.005775501290336251 140/500\n",
      "max_psnr: 22.976057395935058, epoch: 137\n"
     ]
    },
    {
     "name": "stderr",
     "output_type": "stream",
     "text": [
      "100%|██████████| 69/69 [00:08<00:00,  8.62it/s]\n"
     ]
    },
    {
     "name": "stdout",
     "output_type": "stream",
     "text": [
      "mean PSNR : 22.84703723907471 141/500\n",
      "mean MSE : 0.00577595334732905 141/500\n",
      "max_psnr: 22.976057395935058, epoch: 137\n"
     ]
    },
    {
     "name": "stderr",
     "output_type": "stream",
     "text": [
      "100%|██████████| 69/69 [00:08<00:00,  7.98it/s]\n"
     ]
    },
    {
     "name": "stdout",
     "output_type": "stream",
     "text": [
      "mean PSNR : 22.840262832641603 142/500\n",
      "mean MSE : 0.005801884055836126 142/500\n",
      "max_psnr: 22.976057395935058, epoch: 137\n"
     ]
    },
    {
     "name": "stderr",
     "output_type": "stream",
     "text": [
      "100%|██████████| 69/69 [00:08<00:00,  7.88it/s]\n"
     ]
    },
    {
     "name": "stdout",
     "output_type": "stream",
     "text": [
      "mean PSNR : 22.741346530914306 143/500\n",
      "mean MSE : 0.005890569742769003 143/500\n",
      "max_psnr: 22.976057395935058, epoch: 137\n"
     ]
    },
    {
     "name": "stderr",
     "output_type": "stream",
     "text": [
      "100%|██████████| 69/69 [00:07<00:00,  8.70it/s]\n"
     ]
    },
    {
     "name": "stdout",
     "output_type": "stream",
     "text": [
      "mean PSNR : 22.837888326644897 144/500\n",
      "mean MSE : 0.00579755834187381 144/500\n",
      "max_psnr: 22.976057395935058, epoch: 137\n"
     ]
    },
    {
     "name": "stderr",
     "output_type": "stream",
     "text": [
      "100%|██████████| 69/69 [00:07<00:00,  8.69it/s]\n"
     ]
    },
    {
     "name": "stdout",
     "output_type": "stream",
     "text": [
      "mean PSNR : 22.763121519088745 145/500\n",
      "mean MSE : 0.005856671227375046 145/500\n",
      "max_psnr: 22.976057395935058, epoch: 137\n"
     ]
    },
    {
     "name": "stderr",
     "output_type": "stream",
     "text": [
      "100%|██████████| 69/69 [00:08<00:00,  7.91it/s]\n"
     ]
    },
    {
     "name": "stdout",
     "output_type": "stream",
     "text": [
      "mean PSNR : 22.62267189025879 146/500\n",
      "mean MSE : 0.006004147740313783 146/500\n",
      "max_psnr: 22.976057395935058, epoch: 137\n"
     ]
    },
    {
     "name": "stderr",
     "output_type": "stream",
     "text": [
      "100%|██████████| 69/69 [00:08<00:00,  8.05it/s]\n"
     ]
    },
    {
     "name": "stdout",
     "output_type": "stream",
     "text": [
      "mean PSNR : 22.53640670776367 147/500\n",
      "mean MSE : 0.006101776983123273 147/500\n",
      "max_psnr: 22.976057395935058, epoch: 137\n"
     ]
    },
    {
     "name": "stderr",
     "output_type": "stream",
     "text": [
      "100%|██████████| 69/69 [00:07<00:00,  8.63it/s]\n"
     ]
    },
    {
     "name": "stdout",
     "output_type": "stream",
     "text": [
      "mean PSNR : 22.54177787780762 148/500\n",
      "mean MSE : 0.00609473959193565 148/500\n",
      "max_psnr: 22.976057395935058, epoch: 137\n"
     ]
    },
    {
     "name": "stderr",
     "output_type": "stream",
     "text": [
      "100%|██████████| 69/69 [00:08<00:00,  8.47it/s]\n"
     ]
    },
    {
     "name": "stdout",
     "output_type": "stream",
     "text": [
      "mean PSNR : 22.599256458282472 149/500\n",
      "mean MSE : 0.00602430293802172 149/500\n",
      "max_psnr: 22.976057395935058, epoch: 137\n"
     ]
    },
    {
     "name": "stderr",
     "output_type": "stream",
     "text": [
      "100%|██████████| 69/69 [00:07<00:00,  8.66it/s]\n"
     ]
    },
    {
     "name": "stdout",
     "output_type": "stream",
     "text": [
      "mean PSNR : 22.30710186958313 150/500\n",
      "mean MSE : 0.006382401089649647 150/500\n",
      "max_psnr: 22.976057395935058, epoch: 137\n"
     ]
    },
    {
     "name": "stderr",
     "output_type": "stream",
     "text": [
      "100%|██████████| 69/69 [00:07<00:00,  8.63it/s]\n"
     ]
    },
    {
     "name": "stdout",
     "output_type": "stream",
     "text": [
      "mean PSNR : 22.281960678100585 151/500\n",
      "mean MSE : 0.006401391620747745 151/500\n",
      "max_psnr: 22.976057395935058, epoch: 137\n"
     ]
    },
    {
     "name": "stderr",
     "output_type": "stream",
     "text": [
      "100%|██████████| 69/69 [00:08<00:00,  8.61it/s]\n"
     ]
    },
    {
     "name": "stdout",
     "output_type": "stream",
     "text": [
      "mean PSNR : 22.07650285720825 152/500\n",
      "mean MSE : 0.006691452572122216 152/500\n",
      "max_psnr: 22.976057395935058, epoch: 137\n"
     ]
    },
    {
     "name": "stderr",
     "output_type": "stream",
     "text": [
      "100%|██████████| 69/69 [00:07<00:00,  8.68it/s]\n"
     ]
    },
    {
     "name": "stdout",
     "output_type": "stream",
     "text": [
      "mean PSNR : 22.125254230499266 153/500\n",
      "mean MSE : 0.006594419255852699 153/500\n",
      "max_psnr: 22.976057395935058, epoch: 137\n"
     ]
    },
    {
     "name": "stderr",
     "output_type": "stream",
     "text": [
      "100%|██████████| 69/69 [00:08<00:00,  8.62it/s]\n"
     ]
    },
    {
     "name": "stdout",
     "output_type": "stream",
     "text": [
      "mean PSNR : 22.586685752868654 154/500\n",
      "mean MSE : 0.006033662479603663 154/500\n",
      "max_psnr: 22.976057395935058, epoch: 137\n"
     ]
    },
    {
     "name": "stderr",
     "output_type": "stream",
     "text": [
      "100%|██████████| 69/69 [00:08<00:00,  7.92it/s]\n"
     ]
    },
    {
     "name": "stdout",
     "output_type": "stream",
     "text": [
      "mean PSNR : 22.64602415084839 155/500\n",
      "mean MSE : 0.005954035135218873 155/500\n",
      "max_psnr: 22.976057395935058, epoch: 137\n"
     ]
    },
    {
     "name": "stderr",
     "output_type": "stream",
     "text": [
      "100%|██████████| 69/69 [00:08<00:00,  8.62it/s]\n"
     ]
    },
    {
     "name": "stdout",
     "output_type": "stream",
     "text": [
      "mean PSNR : 22.72864016532898 156/500\n",
      "mean MSE : 0.005878800646169111 156/500\n",
      "max_psnr: 22.976057395935058, epoch: 137\n"
     ]
    },
    {
     "name": "stderr",
     "output_type": "stream",
     "text": [
      "100%|██████████| 69/69 [00:08<00:00,  8.61it/s]\n"
     ]
    },
    {
     "name": "stdout",
     "output_type": "stream",
     "text": [
      "mean PSNR : 22.68396463394165 157/500\n",
      "mean MSE : 0.005925626334501431 157/500\n",
      "max_psnr: 22.976057395935058, epoch: 137\n"
     ]
    },
    {
     "name": "stderr",
     "output_type": "stream",
     "text": [
      "100%|██████████| 69/69 [00:07<00:00,  8.63it/s]\n"
     ]
    },
    {
     "name": "stdout",
     "output_type": "stream",
     "text": [
      "mean PSNR : 22.430482463836668 158/500\n",
      "mean MSE : 0.006256482721073553 158/500\n",
      "max_psnr: 22.976057395935058, epoch: 137\n"
     ]
    },
    {
     "name": "stderr",
     "output_type": "stream",
     "text": [
      "100%|██████████| 69/69 [00:08<00:00,  7.94it/s]\n"
     ]
    },
    {
     "name": "stdout",
     "output_type": "stream",
     "text": [
      "mean PSNR : 22.667229719161988 159/500\n",
      "mean MSE : 0.00594696341897361 159/500\n",
      "max_psnr: 22.976057395935058, epoch: 137\n"
     ]
    },
    {
     "name": "stderr",
     "output_type": "stream",
     "text": [
      "100%|██████████| 69/69 [00:07<00:00,  8.66it/s]\n"
     ]
    },
    {
     "name": "stdout",
     "output_type": "stream",
     "text": [
      "mean PSNR : 22.577922525405885 160/500\n",
      "mean MSE : 0.006041243055369705 160/500\n",
      "max_psnr: 22.976057395935058, epoch: 137\n"
     ]
    },
    {
     "name": "stderr",
     "output_type": "stream",
     "text": [
      "100%|██████████| 69/69 [00:07<00:00,  8.95it/s]\n"
     ]
    },
    {
     "name": "stdout",
     "output_type": "stream",
     "text": [
      "mean PSNR : 22.919018573760987 161/500\n",
      "mean MSE : 0.00567899951711297 161/500\n",
      "max_psnr: 22.976057395935058, epoch: 137\n"
     ]
    },
    {
     "name": "stderr",
     "output_type": "stream",
     "text": [
      "100%|██████████| 69/69 [00:07<00:00,  9.17it/s]\n"
     ]
    },
    {
     "name": "stdout",
     "output_type": "stream",
     "text": [
      "mean PSNR : 22.936400775909423 162/500\n",
      "mean MSE : 0.005663860334316269 162/500\n",
      "max_psnr: 22.976057395935058, epoch: 137\n"
     ]
    },
    {
     "name": "stderr",
     "output_type": "stream",
     "text": [
      "100%|██████████| 69/69 [00:08<00:00,  8.39it/s]\n"
     ]
    },
    {
     "name": "stdout",
     "output_type": "stream",
     "text": [
      "mean PSNR : 22.686138925552367 163/500\n",
      "mean MSE : 0.00591151095693931 163/500\n",
      "max_psnr: 22.976057395935058, epoch: 137\n"
     ]
    },
    {
     "name": "stderr",
     "output_type": "stream",
     "text": [
      "100%|██████████| 69/69 [00:08<00:00,  8.44it/s]\n"
     ]
    },
    {
     "name": "stdout",
     "output_type": "stream",
     "text": [
      "mean PSNR : 22.909768524169923 164/500\n",
      "mean MSE : 0.005729472850216553 164/500\n",
      "max_psnr: 22.976057395935058, epoch: 137\n"
     ]
    },
    {
     "name": "stderr",
     "output_type": "stream",
     "text": [
      "100%|██████████| 69/69 [00:07<00:00,  9.04it/s]\n"
     ]
    },
    {
     "name": "stdout",
     "output_type": "stream",
     "text": [
      "mean PSNR : 22.71614959716797 165/500\n",
      "mean MSE : 0.005968833395745605 165/500\n",
      "max_psnr: 22.976057395935058, epoch: 137\n"
     ]
    },
    {
     "name": "stderr",
     "output_type": "stream",
     "text": [
      "100%|██████████| 69/69 [00:07<00:00,  9.11it/s]\n"
     ]
    },
    {
     "name": "stdout",
     "output_type": "stream",
     "text": [
      "mean PSNR : 22.753234996795655 166/500\n",
      "mean MSE : 0.005866234073182568 166/500\n",
      "max_psnr: 22.976057395935058, epoch: 137\n"
     ]
    },
    {
     "name": "stderr",
     "output_type": "stream",
     "text": [
      "100%|██████████| 69/69 [00:08<00:00,  8.34it/s]\n"
     ]
    },
    {
     "name": "stdout",
     "output_type": "stream",
     "text": [
      "mean PSNR : 22.753266553878785 167/500\n",
      "mean MSE : 0.005850553137715906 167/500\n",
      "max_psnr: 22.976057395935058, epoch: 137\n"
     ]
    },
    {
     "name": "stderr",
     "output_type": "stream",
     "text": [
      "100%|██████████| 69/69 [00:08<00:00,  8.39it/s]\n"
     ]
    },
    {
     "name": "stdout",
     "output_type": "stream",
     "text": [
      "mean PSNR : 22.700584592819215 168/500\n",
      "mean MSE : 0.005899767127120867 168/500\n",
      "max_psnr: 22.976057395935058, epoch: 137\n"
     ]
    },
    {
     "name": "stderr",
     "output_type": "stream",
     "text": [
      "100%|██████████| 69/69 [00:08<00:00,  8.39it/s]\n"
     ]
    },
    {
     "name": "stdout",
     "output_type": "stream",
     "text": [
      "mean PSNR : 22.423840255737304 169/500\n",
      "mean MSE : 0.006223384491167962 169/500\n",
      "max_psnr: 22.976057395935058, epoch: 137\n"
     ]
    },
    {
     "name": "stderr",
     "output_type": "stream",
     "text": [
      "100%|██████████| 69/69 [00:08<00:00,  8.22it/s]\n"
     ]
    },
    {
     "name": "stdout",
     "output_type": "stream",
     "text": [
      "mean PSNR : 22.416206111907957 170/500\n",
      "mean MSE : 0.006224017208442092 170/500\n",
      "max_psnr: 22.976057395935058, epoch: 137\n"
     ]
    },
    {
     "name": "stderr",
     "output_type": "stream",
     "text": [
      "100%|██████████| 69/69 [00:07<00:00,  9.09it/s]\n"
     ]
    },
    {
     "name": "stdout",
     "output_type": "stream",
     "text": [
      "mean PSNR : 22.55679594039917 171/500\n",
      "mean MSE : 0.0060667700623162095 171/500\n",
      "max_psnr: 22.976057395935058, epoch: 137\n"
     ]
    },
    {
     "name": "stderr",
     "output_type": "stream",
     "text": [
      "100%|██████████| 69/69 [00:07<00:00,  8.86it/s]\n"
     ]
    },
    {
     "name": "stdout",
     "output_type": "stream",
     "text": [
      "mean PSNR : 22.61086575508118 172/500\n",
      "mean MSE : 0.005993133194278926 172/500\n",
      "max_psnr: 22.976057395935058, epoch: 137\n"
     ]
    },
    {
     "name": "stderr",
     "output_type": "stream",
     "text": [
      "100%|██████████| 69/69 [00:08<00:00,  8.26it/s]\n"
     ]
    },
    {
     "name": "stdout",
     "output_type": "stream",
     "text": [
      "mean PSNR : 22.69545901298523 173/500\n",
      "mean MSE : 0.0059031631145626305 173/500\n",
      "max_psnr: 22.976057395935058, epoch: 137\n"
     ]
    },
    {
     "name": "stderr",
     "output_type": "stream",
     "text": [
      "100%|██████████| 69/69 [00:08<00:00,  8.26it/s]\n"
     ]
    },
    {
     "name": "stdout",
     "output_type": "stream",
     "text": [
      "mean PSNR : 22.877400856018067 174/500\n",
      "mean MSE : 0.00570025252411142 174/500\n",
      "max_psnr: 22.976057395935058, epoch: 137\n"
     ]
    },
    {
     "name": "stderr",
     "output_type": "stream",
     "text": [
      "100%|██████████| 69/69 [00:08<00:00,  8.42it/s]\n"
     ]
    },
    {
     "name": "stdout",
     "output_type": "stream",
     "text": [
      "mean PSNR : 22.934896507263183 175/500\n",
      "mean MSE : 0.005650626264978201 175/500\n",
      "max_psnr: 22.976057395935058, epoch: 137\n"
     ]
    },
    {
     "name": "stderr",
     "output_type": "stream",
     "text": [
      "100%|██████████| 69/69 [00:08<00:00,  8.42it/s]\n"
     ]
    },
    {
     "name": "stdout",
     "output_type": "stream",
     "text": [
      "mean PSNR : 22.779649600982665 176/500\n",
      "mean MSE : 0.005800455817952752 176/500\n",
      "max_psnr: 22.976057395935058, epoch: 137\n"
     ]
    },
    {
     "name": "stderr",
     "output_type": "stream",
     "text": [
      "100%|██████████| 69/69 [00:08<00:00,  8.24it/s]\n"
     ]
    },
    {
     "name": "stdout",
     "output_type": "stream",
     "text": [
      "mean PSNR : 22.626590700149535 177/500\n",
      "mean MSE : 0.005974136895965785 177/500\n",
      "max_psnr: 22.976057395935058, epoch: 137\n"
     ]
    },
    {
     "name": "stderr",
     "output_type": "stream",
     "text": [
      "100%|██████████| 69/69 [00:08<00:00,  8.43it/s]\n"
     ]
    },
    {
     "name": "stdout",
     "output_type": "stream",
     "text": [
      "mean PSNR : 22.82843831062317 178/500\n",
      "mean MSE : 0.0057500748138409104 178/500\n",
      "max_psnr: 22.976057395935058, epoch: 137\n"
     ]
    },
    {
     "name": "stderr",
     "output_type": "stream",
     "text": [
      "100%|██████████| 69/69 [00:07<00:00,  9.13it/s]\n"
     ]
    },
    {
     "name": "stdout",
     "output_type": "stream",
     "text": [
      "mean PSNR : 22.79183026313782 179/500\n",
      "mean MSE : 0.005786699324380607 179/500\n",
      "max_psnr: 22.976057395935058, epoch: 137\n"
     ]
    },
    {
     "name": "stderr",
     "output_type": "stream",
     "text": [
      "100%|██████████| 69/69 [00:07<00:00,  9.06it/s]\n"
     ]
    },
    {
     "name": "stdout",
     "output_type": "stream",
     "text": [
      "mean PSNR : 22.687658386230467 180/500\n",
      "mean MSE : 0.005899960959795863 180/500\n",
      "max_psnr: 22.976057395935058, epoch: 137\n"
     ]
    },
    {
     "name": "stderr",
     "output_type": "stream",
     "text": [
      "100%|██████████| 69/69 [00:07<00:00,  9.12it/s]\n"
     ]
    },
    {
     "name": "stdout",
     "output_type": "stream",
     "text": [
      "mean PSNR : 22.482618951797484 181/500\n",
      "mean MSE : 0.0061599831620696936 181/500\n",
      "max_psnr: 22.976057395935058, epoch: 137\n"
     ]
    },
    {
     "name": "stderr",
     "output_type": "stream",
     "text": [
      "100%|██████████| 69/69 [00:07<00:00,  9.12it/s]\n"
     ]
    },
    {
     "name": "stdout",
     "output_type": "stream",
     "text": [
      "mean PSNR : 22.565640773773193 182/500\n",
      "mean MSE : 0.00602990623563528 182/500\n",
      "max_psnr: 22.976057395935058, epoch: 137\n"
     ]
    },
    {
     "name": "stderr",
     "output_type": "stream",
     "text": [
      "100%|██████████| 69/69 [00:07<00:00,  9.08it/s]\n"
     ]
    },
    {
     "name": "stdout",
     "output_type": "stream",
     "text": [
      "mean PSNR : 22.690941791534424 183/500\n",
      "mean MSE : 0.005909884251886979 183/500\n",
      "max_psnr: 22.976057395935058, epoch: 137\n"
     ]
    },
    {
     "name": "stderr",
     "output_type": "stream",
     "text": [
      "100%|██████████| 69/69 [00:08<00:00,  8.37it/s]\n"
     ]
    },
    {
     "name": "stdout",
     "output_type": "stream",
     "text": [
      "mean PSNR : 22.441890544891358 184/500\n",
      "mean MSE : 0.006204477559076622 184/500\n",
      "max_psnr: 22.976057395935058, epoch: 137\n"
     ]
    },
    {
     "name": "stderr",
     "output_type": "stream",
     "text": [
      "100%|██████████| 69/69 [00:08<00:00,  8.29it/s]\n"
     ]
    },
    {
     "name": "stdout",
     "output_type": "stream",
     "text": [
      "mean PSNR : 22.589470653533937 185/500\n",
      "mean MSE : 0.006016470924951136 185/500\n",
      "max_psnr: 22.976057395935058, epoch: 137\n"
     ]
    },
    {
     "name": "stderr",
     "output_type": "stream",
     "text": [
      "100%|██████████| 69/69 [00:07<00:00,  8.66it/s]\n"
     ]
    },
    {
     "name": "stdout",
     "output_type": "stream",
     "text": [
      "mean PSNR : 22.90088744163513 186/500\n",
      "mean MSE : 0.005682013158220798 186/500\n",
      "max_psnr: 22.976057395935058, epoch: 137\n"
     ]
    },
    {
     "name": "stderr",
     "output_type": "stream",
     "text": [
      "100%|██████████| 69/69 [00:07<00:00,  9.05it/s]\n"
     ]
    },
    {
     "name": "stdout",
     "output_type": "stream",
     "text": [
      "mean PSNR : 23.005809841156005 187/500\n",
      "mean MSE : 0.005571127273142338 187/500\n",
      "max_psnr: 23.005809841156005, epoch: 187\n"
     ]
    },
    {
     "name": "stderr",
     "output_type": "stream",
     "text": [
      "100%|██████████| 69/69 [00:07<00:00,  9.12it/s]\n"
     ]
    },
    {
     "name": "stdout",
     "output_type": "stream",
     "text": [
      "mean PSNR : 23.021642951965333 188/500\n",
      "mean MSE : 0.005589800783200189 188/500\n",
      "max_psnr: 23.021642951965333, epoch: 188\n"
     ]
    },
    {
     "name": "stderr",
     "output_type": "stream",
     "text": [
      "100%|██████████| 69/69 [00:07<00:00,  9.08it/s]\n"
     ]
    },
    {
     "name": "stdout",
     "output_type": "stream",
     "text": [
      "mean PSNR : 22.99457592010498 189/500\n",
      "mean MSE : 0.005591572765260935 189/500\n",
      "max_psnr: 23.021642951965333, epoch: 188\n"
     ]
    },
    {
     "name": "stderr",
     "output_type": "stream",
     "text": [
      "100%|██████████| 69/69 [00:07<00:00,  9.09it/s]\n"
     ]
    },
    {
     "name": "stdout",
     "output_type": "stream",
     "text": [
      "mean PSNR : 22.867944440841676 190/500\n",
      "mean MSE : 0.00573160641011782 190/500\n",
      "max_psnr: 23.021642951965333, epoch: 188\n"
     ]
    },
    {
     "name": "stderr",
     "output_type": "stream",
     "text": [
      "100%|██████████| 69/69 [00:07<00:00,  8.89it/s]\n"
     ]
    },
    {
     "name": "stdout",
     "output_type": "stream",
     "text": [
      "mean PSNR : 23.04480107307434 191/500\n",
      "mean MSE : 0.005537881692871452 191/500\n",
      "max_psnr: 23.04480107307434, epoch: 191\n"
     ]
    },
    {
     "name": "stderr",
     "output_type": "stream",
     "text": [
      "100%|██████████| 69/69 [00:07<00:00,  9.22it/s]\n"
     ]
    },
    {
     "name": "stdout",
     "output_type": "stream",
     "text": [
      "mean PSNR : 22.88707975387573 192/500\n",
      "mean MSE : 0.005711292049381882 192/500\n",
      "max_psnr: 23.04480107307434, epoch: 191\n"
     ]
    },
    {
     "name": "stderr",
     "output_type": "stream",
     "text": [
      "100%|██████████| 69/69 [00:06<00:00, 10.40it/s]\n"
     ]
    },
    {
     "name": "stdout",
     "output_type": "stream",
     "text": [
      "mean PSNR : 23.021026344299315 193/500\n",
      "mean MSE : 0.005569269728148356 193/500\n",
      "max_psnr: 23.04480107307434, epoch: 191\n"
     ]
    },
    {
     "name": "stderr",
     "output_type": "stream",
     "text": [
      "100%|██████████| 69/69 [00:06<00:00, 10.49it/s]\n"
     ]
    },
    {
     "name": "stdout",
     "output_type": "stream",
     "text": [
      "mean PSNR : 23.003054714202882 194/500\n",
      "mean MSE : 0.005577484978130087 194/500\n",
      "max_psnr: 23.04480107307434, epoch: 191\n"
     ]
    },
    {
     "name": "stderr",
     "output_type": "stream",
     "text": [
      "100%|██████████| 69/69 [00:06<00:00, 10.54it/s]\n"
     ]
    },
    {
     "name": "stdout",
     "output_type": "stream",
     "text": [
      "mean PSNR : 22.95027060508728 195/500\n",
      "mean MSE : 0.00564168504322879 195/500\n",
      "max_psnr: 23.04480107307434, epoch: 191\n"
     ]
    },
    {
     "name": "stderr",
     "output_type": "stream",
     "text": [
      "100%|██████████| 69/69 [00:06<00:00, 10.49it/s]\n"
     ]
    },
    {
     "name": "stdout",
     "output_type": "stream",
     "text": [
      "mean PSNR : 23.046424169540405 196/500\n",
      "mean MSE : 0.005553367179818452 196/500\n",
      "max_psnr: 23.046424169540405, epoch: 196\n"
     ]
    },
    {
     "name": "stderr",
     "output_type": "stream",
     "text": [
      "100%|██████████| 69/69 [00:06<00:00, 10.48it/s]\n"
     ]
    },
    {
     "name": "stdout",
     "output_type": "stream",
     "text": [
      "mean PSNR : 22.778953590393066 197/500\n",
      "mean MSE : 0.00587150597712025 197/500\n",
      "max_psnr: 23.046424169540405, epoch: 196\n"
     ]
    },
    {
     "name": "stderr",
     "output_type": "stream",
     "text": [
      "100%|██████████| 69/69 [00:06<00:00, 10.51it/s]\n"
     ]
    },
    {
     "name": "stdout",
     "output_type": "stream",
     "text": [
      "mean PSNR : 22.84123341560364 198/500\n",
      "mean MSE : 0.005756055091042072 198/500\n",
      "max_psnr: 23.046424169540405, epoch: 196\n"
     ]
    },
    {
     "name": "stderr",
     "output_type": "stream",
     "text": [
      "100%|██████████| 69/69 [00:06<00:00, 10.54it/s]\n"
     ]
    },
    {
     "name": "stdout",
     "output_type": "stream",
     "text": [
      "mean PSNR : 22.242558374404908 199/500\n",
      "mean MSE : 0.0065282525750808415 199/500\n",
      "max_psnr: 23.046424169540405, epoch: 196\n"
     ]
    },
    {
     "name": "stderr",
     "output_type": "stream",
     "text": [
      "100%|██████████| 69/69 [00:06<00:00, 10.52it/s]\n"
     ]
    },
    {
     "name": "stdout",
     "output_type": "stream",
     "text": [
      "mean PSNR : 22.76643853187561 200/500\n",
      "mean MSE : 0.005815111210104078 200/500\n",
      "max_psnr: 23.046424169540405, epoch: 196\n"
     ]
    },
    {
     "name": "stderr",
     "output_type": "stream",
     "text": [
      "100%|██████████| 69/69 [00:06<00:00, 10.52it/s]\n"
     ]
    },
    {
     "name": "stdout",
     "output_type": "stream",
     "text": [
      "mean PSNR : 22.874201889038087 201/500\n",
      "mean MSE : 0.0057011588092427705 201/500\n",
      "max_psnr: 23.046424169540405, epoch: 196\n"
     ]
    },
    {
     "name": "stderr",
     "output_type": "stream",
     "text": [
      "100%|██████████| 69/69 [00:06<00:00, 10.51it/s]\n"
     ]
    },
    {
     "name": "stdout",
     "output_type": "stream",
     "text": [
      "mean PSNR : 22.95455018043518 202/500\n",
      "mean MSE : 0.005593453474575654 202/500\n",
      "max_psnr: 23.046424169540405, epoch: 196\n"
     ]
    },
    {
     "name": "stderr",
     "output_type": "stream",
     "text": [
      "100%|██████████| 69/69 [00:06<00:00, 10.50it/s]\n"
     ]
    },
    {
     "name": "stdout",
     "output_type": "stream",
     "text": [
      "mean PSNR : 22.980827140808106 203/500\n",
      "mean MSE : 0.005611008282285184 203/500\n",
      "max_psnr: 23.046424169540405, epoch: 196\n"
     ]
    },
    {
     "name": "stderr",
     "output_type": "stream",
     "text": [
      "100%|██████████| 69/69 [00:06<00:00, 10.48it/s]\n"
     ]
    },
    {
     "name": "stdout",
     "output_type": "stream",
     "text": [
      "mean PSNR : 23.106514530181883 204/500\n",
      "mean MSE : 0.005478420564904809 204/500\n",
      "max_psnr: 23.106514530181883, epoch: 204\n"
     ]
    },
    {
     "name": "stderr",
     "output_type": "stream",
     "text": [
      "100%|██████████| 69/69 [00:06<00:00, 10.49it/s]\n"
     ]
    },
    {
     "name": "stdout",
     "output_type": "stream",
     "text": [
      "mean PSNR : 23.207551136016846 205/500\n",
      "mean MSE : 0.005366769833490253 205/500\n",
      "max_psnr: 23.207551136016846, epoch: 205\n"
     ]
    },
    {
     "name": "stderr",
     "output_type": "stream",
     "text": [
      "100%|██████████| 69/69 [00:06<00:00, 10.53it/s]\n"
     ]
    },
    {
     "name": "stdout",
     "output_type": "stream",
     "text": [
      "mean PSNR : 23.110974130630492 206/500\n",
      "mean MSE : 0.00547651803237386 206/500\n",
      "max_psnr: 23.207551136016846, epoch: 205\n"
     ]
    },
    {
     "name": "stderr",
     "output_type": "stream",
     "text": [
      "100%|██████████| 69/69 [00:06<00:00, 10.44it/s]\n"
     ]
    },
    {
     "name": "stdout",
     "output_type": "stream",
     "text": [
      "mean PSNR : 23.015419206619264 207/500\n",
      "mean MSE : 0.005573916260618717 207/500\n",
      "max_psnr: 23.207551136016846, epoch: 205\n"
     ]
    },
    {
     "name": "stderr",
     "output_type": "stream",
     "text": [
      "100%|██████████| 69/69 [00:06<00:00, 10.45it/s]\n"
     ]
    },
    {
     "name": "stdout",
     "output_type": "stream",
     "text": [
      "mean PSNR : 23.041127681732178 208/500\n",
      "mean MSE : 0.005527945418143645 208/500\n",
      "max_psnr: 23.207551136016846, epoch: 205\n"
     ]
    },
    {
     "name": "stderr",
     "output_type": "stream",
     "text": [
      "100%|██████████| 69/69 [00:06<00:00, 10.52it/s]\n"
     ]
    },
    {
     "name": "stdout",
     "output_type": "stream",
     "text": [
      "mean PSNR : 23.004843435287476 209/500\n",
      "mean MSE : 0.0055619842419400815 209/500\n",
      "max_psnr: 23.207551136016846, epoch: 205\n"
     ]
    },
    {
     "name": "stderr",
     "output_type": "stream",
     "text": [
      "100%|██████████| 69/69 [00:06<00:00, 10.51it/s]\n"
     ]
    },
    {
     "name": "stdout",
     "output_type": "stream",
     "text": [
      "mean PSNR : 22.743582887649538 210/500\n",
      "mean MSE : 0.005907594088930637 210/500\n",
      "max_psnr: 23.207551136016846, epoch: 205\n"
     ]
    },
    {
     "name": "stderr",
     "output_type": "stream",
     "text": [
      "100%|██████████| 69/69 [00:06<00:00, 10.47it/s]\n"
     ]
    },
    {
     "name": "stdout",
     "output_type": "stream",
     "text": [
      "mean PSNR : 22.883590326309204 211/500\n",
      "mean MSE : 0.00572550579207018 211/500\n",
      "max_psnr: 23.207551136016846, epoch: 205\n"
     ]
    },
    {
     "name": "stderr",
     "output_type": "stream",
     "text": [
      "100%|██████████| 69/69 [00:06<00:00, 10.51it/s]\n"
     ]
    },
    {
     "name": "stdout",
     "output_type": "stream",
     "text": [
      "mean PSNR : 23.02150156021118 212/500\n",
      "mean MSE : 0.005506602703826502 212/500\n",
      "max_psnr: 23.207551136016846, epoch: 205\n"
     ]
    },
    {
     "name": "stderr",
     "output_type": "stream",
     "text": [
      "100%|██████████| 69/69 [00:06<00:00, 10.49it/s]\n"
     ]
    },
    {
     "name": "stdout",
     "output_type": "stream",
     "text": [
      "mean PSNR : 22.994826211929322 213/500\n",
      "mean MSE : 0.005537364010233432 213/500\n",
      "max_psnr: 23.207551136016846, epoch: 205\n"
     ]
    },
    {
     "name": "stderr",
     "output_type": "stream",
     "text": [
      "100%|██████████| 69/69 [00:06<00:00, 10.50it/s]\n"
     ]
    },
    {
     "name": "stdout",
     "output_type": "stream",
     "text": [
      "mean PSNR : 22.748111906051637 214/500\n",
      "mean MSE : 0.00585153455263935 214/500\n",
      "max_psnr: 23.207551136016846, epoch: 205\n"
     ]
    },
    {
     "name": "stderr",
     "output_type": "stream",
     "text": [
      "100%|██████████| 69/69 [00:06<00:00, 10.46it/s]\n"
     ]
    },
    {
     "name": "stdout",
     "output_type": "stream",
     "text": [
      "mean PSNR : 23.216554489135742 215/500\n",
      "mean MSE : 0.005326362379128114 215/500\n",
      "max_psnr: 23.216554489135742, epoch: 215\n"
     ]
    },
    {
     "name": "stderr",
     "output_type": "stream",
     "text": [
      "100%|██████████| 69/69 [00:06<00:00, 10.41it/s]\n"
     ]
    },
    {
     "name": "stdout",
     "output_type": "stream",
     "text": [
      "mean PSNR : 23.172724504470825 216/500\n",
      "mean MSE : 0.005376501200953498 216/500\n",
      "max_psnr: 23.216554489135742, epoch: 215\n"
     ]
    },
    {
     "name": "stderr",
     "output_type": "stream",
     "text": [
      "100%|██████████| 69/69 [00:06<00:00, 10.47it/s]\n"
     ]
    },
    {
     "name": "stdout",
     "output_type": "stream",
     "text": [
      "mean PSNR : 23.183505821228028 217/500\n",
      "mean MSE : 0.005359997028717771 217/500\n",
      "max_psnr: 23.216554489135742, epoch: 215\n"
     ]
    },
    {
     "name": "stderr",
     "output_type": "stream",
     "text": [
      "100%|██████████| 69/69 [00:06<00:00, 10.57it/s]\n"
     ]
    },
    {
     "name": "stdout",
     "output_type": "stream",
     "text": [
      "mean PSNR : 23.040875759124756 218/500\n",
      "mean MSE : 0.005501614065142348 218/500\n",
      "max_psnr: 23.216554489135742, epoch: 215\n"
     ]
    },
    {
     "name": "stderr",
     "output_type": "stream",
     "text": [
      "100%|██████████| 69/69 [00:06<00:00, 10.60it/s]\n"
     ]
    },
    {
     "name": "stdout",
     "output_type": "stream",
     "text": [
      "mean PSNR : 23.04708953857422 219/500\n",
      "mean MSE : 0.005485175531357527 219/500\n",
      "max_psnr: 23.216554489135742, epoch: 215\n"
     ]
    },
    {
     "name": "stderr",
     "output_type": "stream",
     "text": [
      "100%|██████████| 69/69 [00:06<00:00, 10.50it/s]\n"
     ]
    },
    {
     "name": "stdout",
     "output_type": "stream",
     "text": [
      "mean PSNR : 22.997332210540772 220/500\n",
      "mean MSE : 0.005563445118023083 220/500\n",
      "max_psnr: 23.216554489135742, epoch: 215\n"
     ]
    },
    {
     "name": "stderr",
     "output_type": "stream",
     "text": [
      "100%|██████████| 69/69 [00:06<00:00, 10.56it/s]\n"
     ]
    },
    {
     "name": "stdout",
     "output_type": "stream",
     "text": [
      "mean PSNR : 22.987454166412352 221/500\n",
      "mean MSE : 0.005573632870800793 221/500\n",
      "max_psnr: 23.216554489135742, epoch: 215\n"
     ]
    },
    {
     "name": "stderr",
     "output_type": "stream",
     "text": [
      "100%|██████████| 69/69 [00:06<00:00, 10.57it/s]\n"
     ]
    },
    {
     "name": "stdout",
     "output_type": "stream",
     "text": [
      "mean PSNR : 22.941304244995116 222/500\n",
      "mean MSE : 0.005609896766254678 222/500\n",
      "max_psnr: 23.216554489135742, epoch: 215\n"
     ]
    },
    {
     "name": "stderr",
     "output_type": "stream",
     "text": [
      "100%|██████████| 69/69 [00:06<00:00, 10.60it/s]\n"
     ]
    },
    {
     "name": "stdout",
     "output_type": "stream",
     "text": [
      "mean PSNR : 22.74965666770935 223/500\n",
      "mean MSE : 0.005875081947306171 223/500\n",
      "max_psnr: 23.216554489135742, epoch: 215\n"
     ]
    },
    {
     "name": "stderr",
     "output_type": "stream",
     "text": [
      "100%|██████████| 69/69 [00:06<00:00, 10.58it/s]\n"
     ]
    },
    {
     "name": "stdout",
     "output_type": "stream",
     "text": [
      "mean PSNR : 22.890393991470336 224/500\n",
      "mean MSE : 0.005670711968559772 224/500\n",
      "max_psnr: 23.216554489135742, epoch: 215\n"
     ]
    },
    {
     "name": "stderr",
     "output_type": "stream",
     "text": [
      "100%|██████████| 69/69 [00:06<00:00, 10.53it/s]\n"
     ]
    },
    {
     "name": "stdout",
     "output_type": "stream",
     "text": [
      "mean PSNR : 22.895958023071287 225/500\n",
      "mean MSE : 0.005633442534599453 225/500\n",
      "max_psnr: 23.216554489135742, epoch: 215\n"
     ]
    },
    {
     "name": "stderr",
     "output_type": "stream",
     "text": [
      "100%|██████████| 69/69 [00:06<00:00, 10.50it/s]\n"
     ]
    },
    {
     "name": "stdout",
     "output_type": "stream",
     "text": [
      "mean PSNR : 23.13524416923523 226/500\n",
      "mean MSE : 0.005384408310055733 226/500\n",
      "max_psnr: 23.216554489135742, epoch: 215\n"
     ]
    },
    {
     "name": "stderr",
     "output_type": "stream",
     "text": [
      "100%|██████████| 69/69 [00:06<00:00, 10.49it/s]\n"
     ]
    },
    {
     "name": "stdout",
     "output_type": "stream",
     "text": [
      "mean PSNR : 23.053559999465943 227/500\n",
      "mean MSE : 0.00549879577360116 227/500\n",
      "max_psnr: 23.216554489135742, epoch: 215\n"
     ]
    },
    {
     "name": "stderr",
     "output_type": "stream",
     "text": [
      "100%|██████████| 69/69 [00:06<00:00, 10.47it/s]\n"
     ]
    },
    {
     "name": "stdout",
     "output_type": "stream",
     "text": [
      "mean PSNR : 23.015028285980225 228/500\n",
      "mean MSE : 0.005511812885524705 228/500\n",
      "max_psnr: 23.216554489135742, epoch: 215\n"
     ]
    },
    {
     "name": "stderr",
     "output_type": "stream",
     "text": [
      "100%|██████████| 69/69 [00:06<00:00, 10.38it/s]\n"
     ]
    },
    {
     "name": "stdout",
     "output_type": "stream",
     "text": [
      "mean PSNR : 23.08728193283081 229/500\n",
      "mean MSE : 0.005432084569474682 229/500\n",
      "max_psnr: 23.216554489135742, epoch: 215\n"
     ]
    },
    {
     "name": "stderr",
     "output_type": "stream",
     "text": [
      "100%|██████████| 69/69 [00:06<00:00, 10.44it/s]\n"
     ]
    },
    {
     "name": "stdout",
     "output_type": "stream",
     "text": [
      "mean PSNR : 23.182757930755614 230/500\n",
      "mean MSE : 0.005348521709674969 230/500\n",
      "max_psnr: 23.216554489135742, epoch: 215\n"
     ]
    },
    {
     "name": "stderr",
     "output_type": "stream",
     "text": [
      "100%|██████████| 69/69 [00:06<00:00, 10.45it/s]\n"
     ]
    },
    {
     "name": "stdout",
     "output_type": "stream",
     "text": [
      "mean PSNR : 22.71786731719971 231/500\n",
      "mean MSE : 0.00586767892120406 231/500\n",
      "max_psnr: 23.216554489135742, epoch: 215\n"
     ]
    },
    {
     "name": "stderr",
     "output_type": "stream",
     "text": [
      "100%|██████████| 69/69 [00:06<00:00, 10.48it/s]\n"
     ]
    },
    {
     "name": "stdout",
     "output_type": "stream",
     "text": [
      "mean PSNR : 23.19930179595947 232/500\n",
      "mean MSE : 0.005329684600001201 232/500\n",
      "max_psnr: 23.216554489135742, epoch: 215\n"
     ]
    },
    {
     "name": "stderr",
     "output_type": "stream",
     "text": [
      "100%|██████████| 69/69 [00:06<00:00, 10.61it/s]\n"
     ]
    },
    {
     "name": "stdout",
     "output_type": "stream",
     "text": [
      "mean PSNR : 23.075173215866087 233/500\n",
      "mean MSE : 0.005448275108356029 233/500\n",
      "max_psnr: 23.216554489135742, epoch: 215\n"
     ]
    },
    {
     "name": "stderr",
     "output_type": "stream",
     "text": [
      "100%|██████████| 69/69 [00:06<00:00, 10.61it/s]\n"
     ]
    },
    {
     "name": "stdout",
     "output_type": "stream",
     "text": [
      "mean PSNR : 23.190430822372438 234/500\n",
      "mean MSE : 0.005346776166697964 234/500\n",
      "max_psnr: 23.216554489135742, epoch: 215\n"
     ]
    },
    {
     "name": "stderr",
     "output_type": "stream",
     "text": [
      "100%|██████████| 69/69 [00:06<00:00, 10.60it/s]\n"
     ]
    },
    {
     "name": "stdout",
     "output_type": "stream",
     "text": [
      "mean PSNR : 23.238622188568115 235/500\n",
      "mean MSE : 0.0053073786851018665 235/500\n",
      "max_psnr: 23.238622188568115, epoch: 235\n"
     ]
    },
    {
     "name": "stderr",
     "output_type": "stream",
     "text": [
      "100%|██████████| 69/69 [00:06<00:00, 10.62it/s]\n"
     ]
    },
    {
     "name": "stdout",
     "output_type": "stream",
     "text": [
      "mean PSNR : 22.945981121063234 236/500\n",
      "mean MSE : 0.0056197338923811915 236/500\n",
      "max_psnr: 23.238622188568115, epoch: 235\n"
     ]
    },
    {
     "name": "stderr",
     "output_type": "stream",
     "text": [
      "100%|██████████| 69/69 [00:06<00:00, 10.66it/s]\n"
     ]
    },
    {
     "name": "stdout",
     "output_type": "stream",
     "text": [
      "mean PSNR : 23.07742214202881 237/500\n",
      "mean MSE : 0.005438058212166652 237/500\n",
      "max_psnr: 23.238622188568115, epoch: 235\n"
     ]
    },
    {
     "name": "stderr",
     "output_type": "stream",
     "text": [
      "100%|██████████| 69/69 [00:06<00:00, 10.59it/s]\n"
     ]
    },
    {
     "name": "stdout",
     "output_type": "stream",
     "text": [
      "mean PSNR : 22.95289895057678 238/500\n",
      "mean MSE : 0.005573335463413969 238/500\n",
      "max_psnr: 23.238622188568115, epoch: 235\n"
     ]
    },
    {
     "name": "stderr",
     "output_type": "stream",
     "text": [
      "100%|██████████| 69/69 [00:06<00:00, 10.63it/s]\n"
     ]
    },
    {
     "name": "stdout",
     "output_type": "stream",
     "text": [
      "mean PSNR : 22.853068618774415 239/500\n",
      "mean MSE : 0.005739656159421429 239/500\n",
      "max_psnr: 23.238622188568115, epoch: 235\n"
     ]
    },
    {
     "name": "stderr",
     "output_type": "stream",
     "text": [
      "100%|██████████| 69/69 [00:06<00:00, 10.70it/s]\n"
     ]
    },
    {
     "name": "stdout",
     "output_type": "stream",
     "text": [
      "mean PSNR : 23.240994844436646 240/500\n",
      "mean MSE : 0.0052844198362436146 240/500\n",
      "max_psnr: 23.240994844436646, epoch: 240\n"
     ]
    },
    {
     "name": "stderr",
     "output_type": "stream",
     "text": [
      "100%|██████████| 69/69 [00:06<00:00, 10.63it/s]\n"
     ]
    },
    {
     "name": "stdout",
     "output_type": "stream",
     "text": [
      "mean PSNR : 23.029359073638915 241/500\n",
      "mean MSE : 0.005506324006710202 241/500\n",
      "max_psnr: 23.240994844436646, epoch: 240\n"
     ]
    },
    {
     "name": "stderr",
     "output_type": "stream",
     "text": [
      "100%|██████████| 69/69 [00:06<00:00, 10.56it/s]\n"
     ]
    },
    {
     "name": "stdout",
     "output_type": "stream",
     "text": [
      "mean PSNR : 23.217883615493776 242/500\n",
      "mean MSE : 0.00530193229438737 242/500\n",
      "max_psnr: 23.240994844436646, epoch: 240\n"
     ]
    },
    {
     "name": "stderr",
     "output_type": "stream",
     "text": [
      "100%|██████████| 69/69 [00:06<00:00, 10.68it/s]\n"
     ]
    },
    {
     "name": "stdout",
     "output_type": "stream",
     "text": [
      "mean PSNR : 23.073278636932372 243/500\n",
      "mean MSE : 0.005455509561579674 243/500\n",
      "max_psnr: 23.240994844436646, epoch: 240\n"
     ]
    },
    {
     "name": "stderr",
     "output_type": "stream",
     "text": [
      "100%|██████████| 69/69 [00:06<00:00, 10.38it/s]\n"
     ]
    },
    {
     "name": "stdout",
     "output_type": "stream",
     "text": [
      "mean PSNR : 23.080431566238403 244/500\n",
      "mean MSE : 0.005456794404890389 244/500\n",
      "max_psnr: 23.240994844436646, epoch: 240\n"
     ]
    },
    {
     "name": "stderr",
     "output_type": "stream",
     "text": [
      "100%|██████████| 69/69 [00:06<00:00, 10.50it/s]\n"
     ]
    },
    {
     "name": "stdout",
     "output_type": "stream",
     "text": [
      "mean PSNR : 22.661239709854126 245/500\n",
      "mean MSE : 0.005920115504413843 245/500\n",
      "max_psnr: 23.240994844436646, epoch: 240\n"
     ]
    },
    {
     "name": "stderr",
     "output_type": "stream",
     "text": [
      "100%|██████████| 69/69 [00:06<00:00, 10.47it/s]\n"
     ]
    },
    {
     "name": "stdout",
     "output_type": "stream",
     "text": [
      "mean PSNR : 22.826927394866942 246/500\n",
      "mean MSE : 0.005685340790078044 246/500\n",
      "max_psnr: 23.240994844436646, epoch: 240\n"
     ]
    },
    {
     "name": "stderr",
     "output_type": "stream",
     "text": [
      "100%|██████████| 69/69 [00:06<00:00, 10.44it/s]\n"
     ]
    },
    {
     "name": "stdout",
     "output_type": "stream",
     "text": [
      "mean PSNR : 22.842540216445922 247/500\n",
      "mean MSE : 0.005671638930216431 247/500\n",
      "max_psnr: 23.240994844436646, epoch: 240\n"
     ]
    },
    {
     "name": "stderr",
     "output_type": "stream",
     "text": [
      "100%|██████████| 69/69 [00:06<00:00, 10.52it/s]\n"
     ]
    },
    {
     "name": "stdout",
     "output_type": "stream",
     "text": [
      "mean PSNR : 22.78003339767456 248/500\n",
      "mean MSE : 0.005730777787975967 248/500\n",
      "max_psnr: 23.240994844436646, epoch: 240\n"
     ]
    },
    {
     "name": "stderr",
     "output_type": "stream",
     "text": [
      "100%|██████████| 69/69 [00:06<00:00, 10.43it/s]\n"
     ]
    },
    {
     "name": "stdout",
     "output_type": "stream",
     "text": [
      "mean PSNR : 22.77003969192505 249/500\n",
      "mean MSE : 0.005760156625183299 249/500\n",
      "max_psnr: 23.240994844436646, epoch: 240\n"
     ]
    },
    {
     "name": "stderr",
     "output_type": "stream",
     "text": [
      "100%|██████████| 69/69 [00:06<00:00, 10.44it/s]\n"
     ]
    },
    {
     "name": "stdout",
     "output_type": "stream",
     "text": [
      "mean PSNR : 23.167833223342896 250/500\n",
      "mean MSE : 0.005313939215848222 250/500\n",
      "max_psnr: 23.240994844436646, epoch: 240\n"
     ]
    },
    {
     "name": "stderr",
     "output_type": "stream",
     "text": [
      " 87%|████████▋ | 60/69 [00:05<00:00, 10.00it/s]"
     ]
    }
   ],
   "source": [
    "model.train()\n",
    "# 기존에는 dataset A에 대해서 학습하던 코드인데 dataset B를 학습하게 수정했습니다.\n",
    "rgb_binary_train_padding(model, num_hologram=24, custom_name='difficult_case', epochs=500, lr=1e-4, z=2e-3)"
   ]
  },
  {
   "cell_type": "code",
   "execution_count": 45,
   "id": "88c57e44-e668-400b-adb9-4057c477f551",
   "metadata": {
    "scrolled": true
   },
   "outputs": [
    {
     "name": "stdout",
     "output_type": "stream",
     "text": [
      "\n"
     ]
    }
   ],
   "source": [
    "model.load_state_dict(torch.load('result/layer62024-05-27 11:15:43.309435_difficult_case_24_0.002/best'))\n",
    "model.eval()\n",
    "print('')"
   ]
  },
  {
   "cell_type": "code",
   "execution_count": 46,
   "id": "a5f029ef-b2da-46f9-8798-bfc1f5723d3a",
   "metadata": {},
   "outputs": [
    {
     "name": "stderr",
     "output_type": "stream",
     "text": [
      "100%|██████████| 800/800 [01:08<00:00, 11.64it/s]\n"
     ]
    },
    {
     "data": {
      "text/plain": [
       "[]"
      ]
     },
     "execution_count": 46,
     "metadata": {},
     "output_type": "execute_result"
    },
    {
     "data": {
      "image/png": "[encoded data removed]",
      "text/plain": [
       "<Figure size 640x480 with 1 Axes>"
      ]
     },
     "metadata": {},
     "output_type": "display_data"
    }
   ],
   "source": [
    "psnr_list = valid_train(model)\n",
    "plt.plot(np.arange(len(psnr_list)), psnr_list, label='train_DIV2K')\n",
    "plt.legend()\n",
    "plt.plot()"
   ]
  },
  {
   "cell_type": "code",
   "execution_count": 47,
   "id": "1e5d3706-e94b-489f-abf7-2c194e105633",
   "metadata": {},
   "outputs": [
    {
     "data": {
      "text/plain": [
       "23.18592396259308"
      ]
     },
     "execution_count": 47,
     "metadata": {},
     "output_type": "execute_result"
    }
   ],
   "source": [
    "np.mean(psnr_list)"
   ]
  },
  {
   "cell_type": "code",
   "execution_count": 48,
   "id": "15c64604-3564-4490-acb1-432efbc6e41e",
   "metadata": {},
   "outputs": [
    {
     "data": {
      "image/png": "[encoded data removed]",
      "text/plain": [
       "<Figure size 640x480 with 1 Axes>"
      ]
     },
     "metadata": {},
     "output_type": "display_data"
    }
   ],
   "source": [
    "psnr_list = []\n",
    "crop = torchvision.transforms.CenterCrop(480)\n",
    "for idx in difficult_list:\n",
    "    target = train_dataset_center[idx].unsqueeze(0)\n",
    "    out = model(target)\n",
    "    binary, rgb = rgb_binary_sim(out, 2e-3)\n",
    "    crop_rgb = crop(rgb)\n",
    "    crop_target = crop(target)\n",
    "    psnr = tt.relativeLoss(crop_rgb, crop_target, tm.get_PSNR)\n",
    "    psnr_list.append(psnr)\n",
    "plt.plot(np.arange(len(psnr_list)), psnr_list)\n",
    "plt.show()"
   ]
  },
  {
   "cell_type": "code",
   "execution_count": 49,
   "id": "a60ecd43-3c48-40ea-b831-88b0c544caa0",
   "metadata": {},
   "outputs": [
    {
     "data": {
      "text/plain": [
       "18.682744233504586"
      ]
     },
     "execution_count": 49,
     "metadata": {},
     "output_type": "execute_result"
    }
   ],
   "source": [
    "np.mean(psnr_list)"
   ]
  },
  {
   "cell_type": "code",
   "execution_count": null,
   "id": "127cce97-8ca0-44b3-9819-8898b7c0b47a",
   "metadata": {},
   "outputs": [],
   "source": []
  }
 ],
 "metadata": {
  "kernelspec": {
   "display_name": "Python 3 (ipykernel)",
   "language": "python",
   "name": "python3"
  },
  "language_info": {
   "codemirror_mode": {
    "name": "ipython",
    "version": 3
   },
   "file_extension": ".py",
   "mimetype": "text/x-python",
   "name": "python",
   "nbconvert_exporter": "python",
   "pygments_lexer": "ipython3",
   "version": "3.8.10"
  }
 },
 "nbformat": 4,
 "nbformat_minor": 5
}
